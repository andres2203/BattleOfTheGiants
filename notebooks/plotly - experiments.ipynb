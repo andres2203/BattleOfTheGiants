{
 "cells": [
  {
   "cell_type": "markdown",
   "metadata": {},
   "source": [
    "# Import Libraries"
   ]
  },
  {
   "cell_type": "code",
   "execution_count": 79,
   "metadata": {},
   "outputs": [],
   "source": [
    "import pandas as pd, numpy as np\n",
    "import numpy as np\n",
    "import seaborn as sns\n",
    "import matplotlib.pyplot as plt\n",
    "\n",
    "import plotly_express as px\n",
    "\n",
    "sns.set_style(\"whitegrid\") # set some seaborn styles\n",
    "sns.set_style(\"ticks\")\n",
    "\n",
    "pd.set_option(\"display.max_rows\", 500)\n",
    "pd.set_option(\"display.max_columns\", 300)\n",
    "pd.set_option(\"display.max_colwidth\", 500)"
   ]
  },
  {
   "cell_type": "markdown",
   "metadata": {},
   "source": [
    "# Import Data"
   ]
  },
  {
   "cell_type": "code",
   "execution_count": 80,
   "metadata": {
    "scrolled": false
   },
   "outputs": [],
   "source": [
    "df_raw = pd.read_csv(\"../data_raw/multiple_choice_responses_2019.csv\", low_memory=False)"
   ]
  },
  {
   "cell_type": "markdown",
   "metadata": {},
   "source": [
    "# 1. Review / cleaning "
   ]
  },
  {
   "cell_type": "code",
   "execution_count": 81,
   "metadata": {
    "scrolled": true
   },
   "outputs": [
    {
     "data": {
      "text/plain": [
       "India                                                   4786\n",
       "United States of America                                3085\n",
       "Other                                                   1054\n",
       "Brazil                                                   728\n",
       "Japan                                                    673\n",
       "Russia                                                   626\n",
       "China                                                    574\n",
       "Germany                                                  531\n",
       "United Kingdom of Great Britain and Northern Ireland     482\n",
       "Canada                                                   450\n",
       "Spain                                                    399\n",
       "Nigeria                                                  395\n",
       "France                                                   387\n",
       "Taiwan                                                   301\n",
       "Turkey                                                   288\n",
       "Italy                                                    271\n",
       "Australia                                                269\n",
       "Poland                                                   212\n",
       "Pakistan                                                 210\n",
       "Mexico                                                   195\n",
       "Ukraine                                                  191\n",
       "South Korea                                              182\n",
       "Colombia                                                 168\n",
       "Indonesia                                                167\n",
       "Netherlands                                              161\n",
       "Singapore                                                156\n",
       "Bangladesh                                               136\n",
       "Viet Nam                                                 128\n",
       "Argentina                                                123\n",
       "Morocco                                                  123\n",
       "Egypt                                                    122\n",
       "South Africa                                             120\n",
       "Kenya                                                    114\n",
       "Portugal                                                 114\n",
       "Greece                                                   108\n",
       "Israel                                                   104\n",
       "Switzerland                                               97\n",
       "Iran, Islamic Republic of...                              96\n",
       "Sweden                                                    92\n",
       "Chile                                                     91\n",
       "Ireland                                                   89\n",
       "Malaysia                                                  80\n",
       "Peru                                                      74\n",
       "Republic of Korea                                         73\n",
       "Belgium                                                   70\n",
       "Belarus                                                   68\n",
       "Tunisia                                                   68\n",
       "Thailand                                                  67\n",
       "Philippines                                               65\n",
       "Hong Kong (S.A.R.)                                        64\n",
       "Algeria                                                   58\n",
       "Czech Republic                                            58\n",
       "Romania                                                   58\n",
       "Hungary                                                   56\n",
       "Denmark                                                   55\n",
       "Austria                                                   53\n",
       "New Zealand                                               51\n",
       "Norway                                                    51\n",
       "Saudi Arabia                                              50\n",
       "In which country do you currently reside?                  1\n",
       "Name: Q3, dtype: int64"
      ]
     },
     "execution_count": 81,
     "metadata": {},
     "output_type": "execute_result"
    }
   ],
   "source": [
    "df_raw[\"Q3\"].value_counts()"
   ]
  },
  {
   "cell_type": "code",
   "execution_count": 82,
   "metadata": {},
   "outputs": [
    {
     "data": {
      "text/plain": [
       "Time from Start to Finish (seconds)     0.000000\n",
       "Q1                                      0.000000\n",
       "Q2                                      0.000000\n",
       "Q2_OTHER_TEXT                           0.000000\n",
       "Q3                                      0.000000\n",
       "Q4                                      1.998174\n",
       "Q5                                      3.093620\n",
       "Q5_OTHER_TEXT                           0.000000\n",
       "Q6                                     28.983670\n",
       "Q7                                     30.905771\n",
       "Q8                                     32.914089\n",
       "Q9_Part_1                              69.104372\n",
       "Q9_Part_2                              81.909930\n",
       "Q9_Part_3                              74.733746\n",
       "Q9_Part_4                              83.015519\n",
       "Q9_Part_5                              81.204990\n",
       "Q9_Part_6                              88.031240\n",
       "Q9_Part_7                              97.301958\n",
       "Q9_Part_8                              98.732123\n",
       "Q9_OTHER_TEXT                           0.000000\n",
       "Q10                                    36.616290\n",
       "Q11                                    37.868952\n",
       "Q12_Part_1                             81.027488\n",
       "Q12_Part_2                             90.845928\n",
       "Q12_Part_3                             82.655442\n",
       "Q12_Part_4                             45.471143\n",
       "Q12_Part_5                             80.951415\n",
       "Q12_Part_6                             61.765899\n",
       "Q12_Part_7                             89.471549\n",
       "Q12_Part_8                             49.751496\n",
       "Q12_Part_9                             77.315144\n",
       "Q12_Part_10                            87.762451\n",
       "Q12_Part_11                            97.078811\n",
       "Q12_Part_12                            93.990263\n",
       "Q12_OTHER_TEXT                          0.000000\n",
       "Q13_Part_1                             85.018765\n",
       "Q13_Part_2                             55.948879\n",
       "Q13_Part_3                             84.019677\n",
       "Q13_Part_4                             80.505122\n",
       "Q13_Part_5                             96.226798\n",
       "Q13_Part_6                             74.033878\n",
       "Q13_Part_7                             92.286236\n",
       "Q13_Part_8                             75.631403\n",
       "Q13_Part_9                             93.488183\n",
       "Q13_Part_10                            77.284714\n",
       "Q13_Part_11                            92.433310\n",
       "Q13_Part_12                            90.501065\n",
       "Q13_OTHER_TEXT                          0.000000\n",
       "Q14                                    20.422964\n",
       "Q14_Part_1_TEXT                         0.000000\n",
       "Q14_Part_2_TEXT                         0.000000\n",
       "Q14_Part_3_TEXT                         0.000000\n",
       "Q14_Part_4_TEXT                         0.000000\n",
       "Q14_Part_5_TEXT                         0.000000\n",
       "Q14_OTHER_TEXT                          0.000000\n",
       "Q15                                    20.742469\n",
       "Q16_Part_1                             45.202353\n",
       "Q16_Part_2                             77.401359\n",
       "Q16_Part_3                             78.572878\n",
       "Q16_Part_4                             92.453596\n",
       "Q16_Part_5                             91.028502\n",
       "Q16_Part_6                             77.000710\n",
       "Q16_Part_7                             84.349325\n",
       "Q16_Part_8                             90.957501\n",
       "Q16_Part_9                             83.355310\n",
       "Q16_Part_10                            86.530074\n",
       "Q16_Part_11                            98.787910\n",
       "Q16_Part_12                            96.490516\n",
       "Q16_OTHER_TEXT                          0.000000\n",
       "Q17_Part_1                             75.423471\n",
       "Q17_Part_2                             76.914494\n",
       "Q17_Part_3                             95.658789\n",
       "Q17_Part_4                             94.309768\n",
       "Q17_Part_5                             99.274774\n",
       "Q17_Part_6                             99.482706\n",
       "Q17_Part_7                             91.469723\n",
       "Q17_Part_8                             96.602089\n",
       "Q17_Part_9                             99.609494\n",
       "Q17_Part_10                            96.155797\n",
       "Q17_Part_11                            73.739730\n",
       "Q17_Part_12                            97.662035\n",
       "Q17_OTHER_TEXT                          0.000000\n",
       "Q18_Part_1                             34.871691\n",
       "Q18_Part_2                             76.726849\n",
       "Q18_Part_3                             66.867836\n",
       "Q18_Part_4                             91.515367\n",
       "Q18_Part_5                             88.553606\n",
       "Q18_Part_6                             88.497819\n",
       "Q18_Part_7                             88.969470\n",
       "Q18_Part_8                             98.022112\n",
       "Q18_Part_9                             89.664266\n",
       "Q18_Part_10                            92.306522\n",
       "Q18_Part_11                            99.573993\n",
       "Q18_Part_12                            94.172837\n",
       "Q18_OTHER_TEXT                          0.000000\n",
       "Q19                                    27.081854\n",
       "Q19_OTHER_TEXT                          0.000000\n",
       "Q20_Part_1                             78.785881\n",
       "Q20_Part_2                             46.662948\n",
       "Q20_Part_3                             99.147987\n",
       "Q20_Part_4                             93.685972\n",
       "Q20_Part_5                             94.527843\n",
       "Q20_Part_6                             83.679886\n",
       "Q20_Part_7                             94.705345\n",
       "Q20_Part_8                             64.976164\n",
       "Q20_Part_9                             96.728877\n",
       "Q20_Part_10                            97.205599\n",
       "Q20_Part_11                            93.706258\n",
       "Q20_Part_12                            97.636677\n",
       "Q20_OTHER_TEXT                          0.000000\n",
       "Q21_Part_1                             46.886094\n",
       "Q21_Part_2                             66.330257\n",
       "Q21_Part_3                             97.479460\n",
       "Q21_Part_4                             87.574805\n",
       "Q21_Part_5                             99.447206\n",
       "Q21_OTHER_TEXT                          0.000000\n",
       "Q22                                    27.964297\n",
       "Q23                                    28.070798\n",
       "Q24_Part_1                             48.148899\n",
       "Q24_Part_2                             56.937823\n",
       "Q24_Part_3                             71.903844\n",
       "Q24_Part_4                             81.103560\n",
       "Q24_Part_5                             95.603002\n",
       "Q24_Part_6                             83.142307\n",
       "Q24_Part_7                             72.355208\n",
       "Q24_Part_8                             95.040065\n",
       "Q24_Part_9                             82.807587\n",
       "Q24_Part_10                            95.395070\n",
       "Q24_Part_11                            93.980120\n",
       "Q24_Part_12                            97.859824\n",
       "Q24_OTHER_TEXT                          0.000000\n",
       "Q25_Part_1                             90.866214\n",
       "Q25_Part_2                             92.362309\n",
       "Q25_Part_3                             83.766102\n",
       "Q25_Part_4                             97.712750\n",
       "Q25_Part_5                             90.977787\n",
       "Q25_Part_6                             94.020692\n",
       "Q25_Part_7                             60.325591\n",
       "Q25_Part_8                             98.833553\n",
       "Q25_OTHER_TEXT                          0.000000\n",
       "Q26_Part_1                             88.802110\n",
       "Q26_Part_2                             89.542550\n",
       "Q26_Part_3                             90.501065\n",
       "Q26_Part_4                             83.832032\n",
       "Q26_Part_5                             94.512628\n",
       "Q26_Part_6                             93.893904\n",
       "Q26_Part_7                             99.736282\n",
       "Q26_OTHER_TEXT                          0.000000\n",
       "Q27_Part_1                             89.268689\n",
       "Q27_Part_2                             93.057105\n",
       "Q27_Part_3                             97.144741\n",
       "Q27_Part_4                             94.766203\n",
       "Q27_Part_5                             94.786490\n",
       "Q27_Part_6                             99.746425\n",
       "Q27_OTHER_TEXT                          0.000000\n",
       "Q28_Part_1                             52.373466\n",
       "Q28_Part_2                             70.468607\n",
       "Q28_Part_3                             70.803327\n",
       "Q28_Part_4                             77.051425\n",
       "Q28_Part_5                             78.476519\n",
       "Q28_Part_6                             82.690942\n",
       "Q28_Part_7                             94.218481\n",
       "Q28_Part_8                             89.010042\n",
       "Q28_Part_9                             95.379856\n",
       "Q28_Part_10                            95.182067\n",
       "Q28_Part_11                            91.271934\n",
       "Q28_Part_12                            98.260473\n",
       "Q28_OTHER_TEXT                          0.000000\n",
       "Q29_Part_1                             89.172330\n",
       "Q29_Part_2                             86.007709\n",
       "Q29_Part_3                             93.117963\n",
       "Q29_Part_4                             98.103256\n",
       "Q29_Part_5                             99.437063\n",
       "Q29_Part_6                             99.411705\n",
       "Q29_Part_7                             99.173344\n",
       "Q29_Part_8                             99.538493\n",
       "Q29_Part_9                             99.127701\n",
       "Q29_Part_10                            99.599351\n",
       "Q29_Part_11                            88.690537\n",
       "Q29_Part_12                            99.132772\n",
       "Q29_OTHER_TEXT                          0.000000\n",
       "Q30_Part_1                             90.815499\n",
       "Q30_Part_2                             94.223552\n",
       "Q30_Part_3                             95.552287\n",
       "Q30_Part_4                             95.745005\n",
       "Q30_Part_5                             96.967238\n",
       "Q30_Part_6                             96.434730\n",
       "Q30_Part_7                             98.417689\n",
       "Q30_Part_8                             97.327315\n",
       "Q30_Part_9                             98.554620\n",
       "Q30_Part_10                            97.991683\n",
       "Q30_Part_11                            83.994320\n",
       "Q30_Part_12                            98.782838\n",
       "Q30_OTHER_TEXT                          0.000000\n",
       "Q31_Part_1                             95.136424\n",
       "Q31_Part_2                             97.144741\n",
       "Q31_Part_3                             96.931737\n",
       "Q31_Part_4                             97.819251\n",
       "Q31_Part_5                             98.361903\n",
       "Q31_Part_6                             97.834466\n",
       "Q31_Part_7                             97.332387\n",
       "Q31_Part_8                             98.123542\n",
       "Q31_Part_9                             98.569835\n",
       "Q31_Part_10                            97.976468\n",
       "Q31_Part_11                            79.034385\n",
       "Q31_Part_12                            98.645907\n",
       "Q31_OTHER_TEXT                          0.000000\n",
       "Q32_Part_1                             97.712750\n",
       "Q32_Part_2                             97.875038\n",
       "Q32_Part_3                             97.048382\n",
       "Q32_Part_4                             97.023025\n",
       "Q32_Part_5                             98.108327\n",
       "Q32_Part_6                             97.773608\n",
       "Q32_Part_7                             97.966325\n",
       "Q32_Part_8                             98.650979\n",
       "Q32_Part_9                             98.397403\n",
       "Q32_Part_10                            97.109240\n",
       "Q32_Part_11                            78.121513\n",
       "Q32_Part_12                            98.853839\n",
       "Q32_OTHER_TEXT                          0.000000\n",
       "Q33_Part_1                             97.469317\n",
       "Q33_Part_2                             98.590121\n",
       "Q33_Part_3                             99.026270\n",
       "Q33_Part_4                             99.127701\n",
       "Q33_Part_5                             99.102343\n",
       "Q33_Part_6                             97.636677\n",
       "Q33_Part_7                             96.160868\n",
       "Q33_Part_8                             98.579978\n",
       "Q33_Part_9                             99.852926\n",
       "Q33_Part_10                            99.320418\n",
       "Q33_Part_11                            73.749873\n",
       "Q33_Part_12                            99.325489\n",
       "Q33_OTHER_TEXT                          0.000000\n",
       "Q34_Part_1                             84.161680\n",
       "Q34_Part_2                             89.040471\n",
       "Q34_Part_3                             92.250735\n",
       "Q34_Part_4                             90.602495\n",
       "Q34_Part_5                             93.949691\n",
       "Q34_Part_6                             97.220813\n",
       "Q34_Part_7                             97.012882\n",
       "Q34_Part_8                             97.890253\n",
       "Q34_Part_9                             97.565676\n",
       "Q34_Part_10                            97.327315\n",
       "Q34_Part_11                            93.680901\n",
       "Q34_Part_12                            98.539406\n",
       "Q34_OTHER_TEXT                          0.000000\n",
       "dtype: float64"
      ]
     },
     "execution_count": 82,
     "metadata": {},
     "output_type": "execute_result"
    }
   ],
   "source": [
    "# get overview, search isnull. \n",
    "100 * df_raw.isnull().sum() / len(df_raw)"
   ]
  },
  {
   "cell_type": "markdown",
   "metadata": {},
   "source": [
    "As most cols are dummy vars we dont drop cols with hight perc isnull"
   ]
  },
  {
   "cell_type": "code",
   "execution_count": 83,
   "metadata": {},
   "outputs": [],
   "source": [
    "df = df_raw.copy() "
   ]
  },
  {
   "cell_type": "code",
   "execution_count": 84,
   "metadata": {},
   "outputs": [
    {
     "data": {
      "text/plain": [
       "Time from Start to Finish (seconds)                                                                                                                                                                                                                           Duration (in seconds)\n",
       "Q1                                                                                                                                                                                                                                                      What is your age (# years)?\n",
       "Q2                                                                                                                                                                                                                                           What is your gender? - Selected Choice\n",
       "Q2_OTHER_TEXT                                                                                                                                                                                                                 What is your gender? - Prefer to self-describe - Text\n",
       "Q3                                                                                                                                                                                                                                        In which country do you currently reside?\n",
       "Q4                                                                                                                                                                  What is the highest level of formal education that you have attained or plan to attain within the next 2 years?\n",
       "Q5                                                                                                                                                                          Select the title most similar to your current role (or most recent title if retired): - Selected Choice\n",
       "Q5_OTHER_TEXT                                                                                                                                                                  Select the title most similar to your current role (or most recent title if retired): - Other - Text\n",
       "Q6                                                                                                                                                                                                                          What is the size of the company where you are employed?\n",
       "Q7                                                                                                                                                                         Approximately how many individuals are responsible for data science workloads at your place of business?\n",
       "Q8                                                                                                                                                                                             Does your current employer incorporate machine learning methods into their business?\n",
       "Q9_Part_1                                                                             Select any activities that make up an important part of your role at work: (Select all that apply) - Selected Choice - Analyze and understand data to influence product or business decisions\n",
       "Q9_Part_2                                   Select any activities that make up an important part of your role at work: (Select all that apply) - Selected Choice - Build and/or run the data infrastructure that my business uses for storing, analyzing, and operationalizing data\n",
       "Q9_Part_3                                                                                 Select any activities that make up an important part of your role at work: (Select all that apply) - Selected Choice - Build prototypes to explore applying machine learning to new areas\n",
       "Q9_Part_4                                                    Select any activities that make up an important part of your role at work: (Select all that apply) - Selected Choice - Build and/or run a machine learning service that operationally improves my product or workflows\n",
       "Q9_Part_5                                                                                        Select any activities that make up an important part of your role at work: (Select all that apply) - Selected Choice - Experimentation and iteration to improve existing ML models\n",
       "Q9_Part_6                                                                                 Select any activities that make up an important part of your role at work: (Select all that apply) - Selected Choice - Do research that advances the state of the art of machine learning\n",
       "Q9_Part_7                                                                                  Select any activities that make up an important part of your role at work: (Select all that apply) - Selected Choice - None of these activities are an important part of my role at work\n",
       "Q9_Part_8                                                                                                                                              Select any activities that make up an important part of your role at work: (Select all that apply) - Selected Choice - Other\n",
       "Q9_OTHER_TEXT                                                                                                                                                     Select any activities that make up an important part of your role at work: (Select all that apply) - Other - Text\n",
       "Q10                                                                                                                                                                                                                    What is your current yearly compensation (approximate $USD)?\n",
       "Q11                                                                                                                                               Approximately how much money have you spent on machine learning and/or cloud computing products at your work in the past 5 years?\n",
       "Q12_Part_1                                                                                                              Who/what are your favorite media sources that report on data science topics? (Select all that apply) - Selected Choice - Twitter (data science influencers)\n",
       "Q12_Part_2                                                                                                     Who/what are your favorite media sources that report on data science topics? (Select all that apply) - Selected Choice - Hacker News (https://news.ycombinator.com/)\n",
       "Q12_Part_3                                                                                                  Who/what are your favorite media sources that report on data science topics? (Select all that apply) - Selected Choice - Reddit (r/machinelearning, r/datascience, etc)\n",
       "Q12_Part_4                                                                                                        Who/what are your favorite media sources that report on data science topics? (Select all that apply) - Selected Choice - Kaggle (forums, blog, social media, etc)\n",
       "Q12_Part_5                                                                                                             Who/what are your favorite media sources that report on data science topics? (Select all that apply) - Selected Choice - Course Forums (forums.fast.ai, etc)\n",
       "Q12_Part_6                                                                                                 Who/what are your favorite media sources that report on data science topics? (Select all that apply) - Selected Choice - YouTube (Cloud AI Adventures, Siraj Raval, etc)\n",
       "Q12_Part_7                                                                                      Who/what are your favorite media sources that report on data science topics? (Select all that apply) - Selected Choice - Podcasts (Chai Time Data Science, Linear Digressions, etc)\n",
       "Q12_Part_8                                                                           Who/what are your favorite media sources that report on data science topics? (Select all that apply) - Selected Choice - Blogs (Towards Data Science, Medium, Analytics Vidhya, KDnuggets etc)\n",
       "Q12_Part_9                                                                         Who/what are your favorite media sources that report on data science topics? (Select all that apply) - Selected Choice - Journal Publications (traditional publications, preprint journals, etc)\n",
       "Q12_Part_10                                                                                                   Who/what are your favorite media sources that report on data science topics? (Select all that apply) - Selected Choice - Slack Communities (ods.ai, kagglenoobs, etc)\n",
       "Q12_Part_11                                                                                                                                           Who/what are your favorite media sources that report on data science topics? (Select all that apply) - Selected Choice - None\n",
       "Q12_Part_12                                                                                                                                          Who/what are your favorite media sources that report on data science topics? (Select all that apply) - Selected Choice - Other\n",
       "Q12_OTHER_TEXT                                                                                                                                                  Who/what are your favorite media sources that report on data science topics? (Select all that apply) - Other - Text\n",
       "Q13_Part_1                                                                                                                                                 On which platforms have you begun or completed data science courses? (Select all that apply) - Selected Choice - Udacity\n",
       "Q13_Part_2                                                                                                                                                On which platforms have you begun or completed data science courses? (Select all that apply) - Selected Choice - Coursera\n",
       "Q13_Part_3                                                                                                                                                     On which platforms have you begun or completed data science courses? (Select all that apply) - Selected Choice - edX\n",
       "Q13_Part_4                                                                                                                                                On which platforms have you begun or completed data science courses? (Select all that apply) - Selected Choice - DataCamp\n",
       "Q13_Part_5                                                                                                                                               On which platforms have you begun or completed data science courses? (Select all that apply) - Selected Choice - DataQuest\n",
       "Q13_Part_6                                                                                                                      On which platforms have you begun or completed data science courses? (Select all that apply) - Selected Choice - Kaggle Courses (i.e. Kaggle Learn)\n",
       "Q13_Part_7                                                                                                                                                 On which platforms have you begun or completed data science courses? (Select all that apply) - Selected Choice - Fast.ai\n",
       "Q13_Part_8                                                                                                                                                   On which platforms have you begun or completed data science courses? (Select all that apply) - Selected Choice - Udemy\n",
       "Q13_Part_9                                                                                                                                       On which platforms have you begun or completed data science courses? (Select all that apply) - Selected Choice - LinkedIn Learning\n",
       "Q13_Part_10                                                                                                  On which platforms have you begun or completed data science courses? (Select all that apply) - Selected Choice - University Courses (resulting in a university degree)\n",
       "Q13_Part_11                                                                                                                                                   On which platforms have you begun or completed data science courses? (Select all that apply) - Selected Choice - None\n",
       "Q13_Part_12                                                                                                                                                  On which platforms have you begun or completed data science courses? (Select all that apply) - Selected Choice - Other\n",
       "Q13_OTHER_TEXT                                                                                                                                                          On which platforms have you begun or completed data science courses? (Select all that apply) - Other - Text\n",
       "Q14                                                                                                                                                              What is the primary tool that you use at work or school to analyze data? (Include text response) - Selected Choice\n",
       "Q14_Part_1_TEXT                                                                                         What is the primary tool that you use at work or school to analyze data? (Include text response) - Basic statistical software (Microsoft Excel, Google Sheets, etc.) - Text\n",
       "Q14_Part_2_TEXT                                                                                                           What is the primary tool that you use at work or school to analyze data? (Include text response) - Advanced statistical software (SPSS, SAS, etc.) - Text\n",
       "Q14_Part_3_TEXT                                                                                      What is the primary tool that you use at work or school to analyze data? (Include text response) - Business intelligence software (Salesforce, Tableau, Spotfire, etc.) - Text\n",
       "Q14_Part_4_TEXT                                                                                                What is the primary tool that you use at work or school to analyze data? (Include text response) - Local development environments (RStudio, JupyterLab, etc.) - Text\n",
       "Q14_Part_5_TEXT                                                                                                  What is the primary tool that you use at work or school to analyze data? (Include text response) - Cloud-based data software & APIs (AWS, GCP, Azure, etc.) - Text\n",
       "Q14_OTHER_TEXT                                                                                                                                                      What is the primary tool that you use at work or school to analyze data? (Include text response) - Other - Text\n",
       "Q15                                                                                                                                                                                                     How long have you been writing code to analyze data (at work or at school)?\n",
       "Q16_Part_1                                                                             Which of the following integrated development environments (IDE's) do you use on a regular basis?  (Select all that apply) - Selected Choice - Jupyter (JupyterLab, Jupyter Notebooks, etc) \n",
       "Q16_Part_2                                                                                                                 Which of the following integrated development environments (IDE's) do you use on a regular basis?  (Select all that apply) - Selected Choice -  RStudio \n",
       "Q16_Part_3                                                                                                                 Which of the following integrated development environments (IDE's) do you use on a regular basis?  (Select all that apply) - Selected Choice -  PyCharm \n",
       "Q16_Part_4                                                                                                                    Which of the following integrated development environments (IDE's) do you use on a regular basis?  (Select all that apply) - Selected Choice -  Atom \n",
       "Q16_Part_5                                                                                                                  Which of the following integrated development environments (IDE's) do you use on a regular basis?  (Select all that apply) - Selected Choice -  MATLAB \n",
       "Q16_Part_6                                                                                      Which of the following integrated development environments (IDE's) do you use on a regular basis?  (Select all that apply) - Selected Choice -  Visual Studio / Visual Studio Code \n",
       "Q16_Part_7                                                                                                                Which of the following integrated development environments (IDE's) do you use on a regular basis?  (Select all that apply) - Selected Choice -   Spyder  \n",
       "Q16_Part_8                                                                                                           Which of the following integrated development environments (IDE's) do you use on a regular basis?  (Select all that apply) - Selected Choice -   Vim / Emacs  \n",
       "Q16_Part_9                                                                                                             Which of the following integrated development environments (IDE's) do you use on a regular basis?  (Select all that apply) - Selected Choice -   Notepad++  \n",
       "Q16_Part_10                                                                                                         Which of the following integrated development environments (IDE's) do you use on a regular basis?  (Select all that apply) - Selected Choice -   Sublime Text  \n",
       "Q16_Part_11                                                                                                                     Which of the following integrated development environments (IDE's) do you use on a regular basis?  (Select all that apply) - Selected Choice - None\n",
       "Q16_Part_12                                                                                                                    Which of the following integrated development environments (IDE's) do you use on a regular basis?  (Select all that apply) - Selected Choice - Other\n",
       "Q16_OTHER_TEXT                                                                                                                            Which of the following integrated development environments (IDE's) do you use on a regular basis?  (Select all that apply) - Other - Text\n",
       "Q17_Part_1                                                                                                                 Which of the following hosted notebook products do you use on a regular basis?  (Select all that apply) - Selected Choice -  Kaggle Notebooks (Kernels) \n",
       "Q17_Part_2                                                                                                                               Which of the following hosted notebook products do you use on a regular basis?  (Select all that apply) - Selected Choice -  Google Colab \n",
       "Q17_Part_3                                                                                                                  Which of the following hosted notebook products do you use on a regular basis?  (Select all that apply) - Selected Choice -  Microsoft Azure Notebooks \n",
       "Q17_Part_4                                                                                 Which of the following hosted notebook products do you use on a regular basis?  (Select all that apply) - Selected Choice -  Google Cloud Notebook Products (AI Platform, Datalab, etc) \n",
       "Q17_Part_5                                                                                                                      Which of the following hosted notebook products do you use on a regular basis?  (Select all that apply) - Selected Choice -  Paperspace / Gradient \n",
       "Q17_Part_6                                                                                                                                   Which of the following hosted notebook products do you use on a regular basis?  (Select all that apply) - Selected Choice -  FloydHub \n",
       "Q17_Part_7                                                                                                                        Which of the following hosted notebook products do you use on a regular basis?  (Select all that apply) - Selected Choice -  Binder / JupyterHub \n",
       "Q17_Part_8                                                                                                                          Which of the following hosted notebook products do you use on a regular basis?  (Select all that apply) - Selected Choice -  IBM Watson Studio \n",
       "Q17_Part_9                                                                                                                                  Which of the following hosted notebook products do you use on a regular basis?  (Select all that apply) - Selected Choice - Code Ocean \n",
       "Q17_Part_10                                                                            Which of the following hosted notebook products do you use on a regular basis?  (Select all that apply) - Selected Choice - AWS Notebook Products (EMR Notebooks, Sagemaker Notebooks, etc) \n",
       "Q17_Part_11                                                                                                                                        Which of the following hosted notebook products do you use on a regular basis?  (Select all that apply) - Selected Choice - None\n",
       "Q17_Part_12                                                                                                                                       Which of the following hosted notebook products do you use on a regular basis?  (Select all that apply) - Selected Choice - Other\n",
       "Q17_OTHER_TEXT                                                                                                                                               Which of the following hosted notebook products do you use on a regular basis?  (Select all that apply) - Other - Text\n",
       "Q18_Part_1                                                                                                                                                             What programming languages do you use on a regular basis? (Select all that apply) - Selected Choice - Python\n",
       "Q18_Part_2                                                                                                                                                                  What programming languages do you use on a regular basis? (Select all that apply) - Selected Choice - R\n",
       "Q18_Part_3                                                                                                                                                                What programming languages do you use on a regular basis? (Select all that apply) - Selected Choice - SQL\n",
       "Q18_Part_4                                                                                                                                                                  What programming languages do you use on a regular basis? (Select all that apply) - Selected Choice - C\n",
       "Q18_Part_5                                                                                                                                                                What programming languages do you use on a regular basis? (Select all that apply) - Selected Choice - C++\n",
       "Q18_Part_6                                                                                                                                                               What programming languages do you use on a regular basis? (Select all that apply) - Selected Choice - Java\n",
       "Q18_Part_7                                                                                                                                                         What programming languages do you use on a regular basis? (Select all that apply) - Selected Choice - Javascript\n",
       "Q18_Part_8                                                                                                                                                         What programming languages do you use on a regular basis? (Select all that apply) - Selected Choice - TypeScript\n",
       "Q18_Part_9                                                                                                                                                               What programming languages do you use on a regular basis? (Select all that apply) - Selected Choice - Bash\n",
       "Q18_Part_10                                                                                                                                                            What programming languages do you use on a regular basis? (Select all that apply) - Selected Choice - MATLAB\n",
       "Q18_Part_11                                                                                                                                                              What programming languages do you use on a regular basis? (Select all that apply) - Selected Choice - None\n",
       "Q18_Part_12                                                                                                                                                             What programming languages do you use on a regular basis? (Select all that apply) - Selected Choice - Other\n",
       "Q18_OTHER_TEXT                                                                                                                                                                     What programming languages do you use on a regular basis? (Select all that apply) - Other - Text\n",
       "Q19                                                                                                                                                                      What programming language would you recommend an aspiring data scientist to learn first? - Selected Choice\n",
       "Q19_OTHER_TEXT                                                                                                                                                              What programming language would you recommend an aspiring data scientist to learn first? - Other - Text\n",
       "Q20_Part_1                                                                                                                                What data visualization libraries or tools do you use on a regular basis?  (Select all that apply) - Selected Choice -  Ggplot / ggplot2 \n",
       "Q20_Part_2                                                                                                                                      What data visualization libraries or tools do you use on a regular basis?  (Select all that apply) - Selected Choice -  Matplotlib \n",
       "Q20_Part_3                                                                                                                                          What data visualization libraries or tools do you use on a regular basis?  (Select all that apply) - Selected Choice -  Altair \n",
       "Q20_Part_4                                                                                                                                           What data visualization libraries or tools do you use on a regular basis?  (Select all that apply) - Selected Choice -  Shiny \n",
       "Q20_Part_5                                                                                                                                           What data visualization libraries or tools do you use on a regular basis?  (Select all that apply) - Selected Choice -  D3.js \n",
       "Q20_Part_6                                                                                                                         What data visualization libraries or tools do you use on a regular basis?  (Select all that apply) - Selected Choice -  Plotly / Plotly Express \n",
       "Q20_Part_7                                                                                                                                           What data visualization libraries or tools do you use on a regular basis?  (Select all that apply) - Selected Choice -  Bokeh \n",
       "Q20_Part_8                                                                                                                                         What data visualization libraries or tools do you use on a regular basis?  (Select all that apply) - Selected Choice -  Seaborn \n",
       "Q20_Part_9                                                                                                                                      What data visualization libraries or tools do you use on a regular basis?  (Select all that apply) - Selected Choice -  Geoplotlib \n",
       "Q20_Part_10                                                                                                                               What data visualization libraries or tools do you use on a regular basis?  (Select all that apply) - Selected Choice -  Leaflet / Folium \n",
       "Q20_Part_11                                                                                                                                             What data visualization libraries or tools do you use on a regular basis?  (Select all that apply) - Selected Choice - None\n",
       "Q20_Part_12                                                                                                                                            What data visualization libraries or tools do you use on a regular basis?  (Select all that apply) - Selected Choice - Other\n",
       "Q20_OTHER_TEXT                                                                                                                                                    What data visualization libraries or tools do you use on a regular basis?  (Select all that apply) - Other - Text\n",
       "Q21_Part_1                                                                                                                                                     Which types of specialized hardware do you use on a regular basis?  (Select all that apply) - Selected Choice - CPUs\n",
       "Q21_Part_2                                                                                                                                                     Which types of specialized hardware do you use on a regular basis?  (Select all that apply) - Selected Choice - GPUs\n",
       "Q21_Part_3                                                                                                                                                     Which types of specialized hardware do you use on a regular basis?  (Select all that apply) - Selected Choice - TPUs\n",
       "Q21_Part_4                                                                                                                                     Which types of specialized hardware do you use on a regular basis?  (Select all that apply) - Selected Choice - None / I do not know\n",
       "Q21_Part_5                                                                                                                                                    Which types of specialized hardware do you use on a regular basis?  (Select all that apply) - Selected Choice - Other\n",
       "Q21_OTHER_TEXT                                                                                                                                                           Which types of specialized hardware do you use on a regular basis?  (Select all that apply) - Other - Text\n",
       "Q22                                                                                                                                                                                                                              Have you ever used a TPU (tensor processing unit)?\n",
       "Q23                                                                                                                                                                                                                      For how many years have you used machine learning methods?\n",
       "Q24_Part_1                                                                                                                           Which of the following ML algorithms do you use on a regular basis? (Select all that apply): - Selected Choice - Linear or Logistic Regression\n",
       "Q24_Part_2                                                                                                                        Which of the following ML algorithms do you use on a regular basis? (Select all that apply): - Selected Choice - Decision Trees or Random Forests\n",
       "Q24_Part_3                                                                                                     Which of the following ML algorithms do you use on a regular basis? (Select all that apply): - Selected Choice - Gradient Boosting Machines (xgboost, lightgbm, etc)\n",
       "Q24_Part_4                                                                                                                                     Which of the following ML algorithms do you use on a regular basis? (Select all that apply): - Selected Choice - Bayesian Approaches\n",
       "Q24_Part_5                                                                                                                                 Which of the following ML algorithms do you use on a regular basis? (Select all that apply): - Selected Choice - Evolutionary Approaches\n",
       "Q24_Part_6                                                                                                                       Which of the following ML algorithms do you use on a regular basis? (Select all that apply): - Selected Choice - Dense Neural Networks (MLPs, etc)\n",
       "Q24_Part_7                                                                                                                           Which of the following ML algorithms do you use on a regular basis? (Select all that apply): - Selected Choice - Convolutional Neural Networks\n",
       "Q24_Part_8                                                                                                                         Which of the following ML algorithms do you use on a regular basis? (Select all that apply): - Selected Choice - Generative Adversarial Networks\n",
       "Q24_Part_9                                                                                                                               Which of the following ML algorithms do you use on a regular basis? (Select all that apply): - Selected Choice - Recurrent Neural Networks\n",
       "Q24_Part_10                                                                                                                Which of the following ML algorithms do you use on a regular basis? (Select all that apply): - Selected Choice - Transformer Networks (BERT, gpt-2, etc)\n",
       "Q24_Part_11                                                                                                                                                   Which of the following ML algorithms do you use on a regular basis? (Select all that apply): - Selected Choice - None\n",
       "Q24_Part_12                                                                                                                                                  Which of the following ML algorithms do you use on a regular basis? (Select all that apply): - Selected Choice - Other\n",
       "Q24_OTHER_TEXT                                                                                                                                                          Which of the following ML algorithms do you use on a regular basis? (Select all that apply): - Other - Text\n",
       "Q25_Part_1                                                                                                       Which categories of ML tools do you use on a regular basis?  (Select all that apply) - Selected Choice - Automated data augmentation (e.g. imgaug, albumentations)\n",
       "Q25_Part_2                                                                                                  Which categories of ML tools do you use on a regular basis?  (Select all that apply) - Selected Choice - Automated feature engineering/selection (e.g. tpot, boruta_py)\n",
       "Q25_Part_3                                                                                                          Which categories of ML tools do you use on a regular basis?  (Select all that apply) - Selected Choice - Automated model selection (e.g. auto-sklearn, xcessiv)\n",
       "Q25_Part_4                                                                                                        Which categories of ML tools do you use on a regular basis?  (Select all that apply) - Selected Choice - Automated model architecture searches (e.g. darts, enas)\n",
       "Q25_Part_5                                                                                                       Which categories of ML tools do you use on a regular basis?  (Select all that apply) - Selected Choice - Automated hyperparameter tuning (e.g. hyperopt, ray.tune)\n",
       "Q25_Part_6                                                                                         Which categories of ML tools do you use on a regular basis?  (Select all that apply) - Selected Choice - Automation of full ML pipelines (e.g. Google AutoML, H20 Driverless AI)\n",
       "Q25_Part_7                                                                                                                                                            Which categories of ML tools do you use on a regular basis?  (Select all that apply) - Selected Choice - None\n",
       "Q25_Part_8                                                                                                                                                           Which categories of ML tools do you use on a regular basis?  (Select all that apply) - Selected Choice - Other\n",
       "Q25_OTHER_TEXT                                                                                                                                                                  Which categories of ML tools do you use on a regular basis?  (Select all that apply) - Other - Text\n",
       "Q26_Part_1                                                                                       Which categories of computer vision methods do you use on a regular basis?  (Select all that apply) - Selected Choice - General purpose image/video tools (PIL, cv2, skimage, etc)\n",
       "Q26_Part_2                                                                                              Which categories of computer vision methods do you use on a regular basis?  (Select all that apply) - Selected Choice - Image segmentation methods (U-Net, Mask R-CNN, etc)\n",
       "Q26_Part_3                                                                                                Which categories of computer vision methods do you use on a regular basis?  (Select all that apply) - Selected Choice - Object detection methods (YOLOv3, RetinaNet, etc)\n",
       "Q26_Part_4                             Which categories of computer vision methods do you use on a regular basis?  (Select all that apply) - Selected Choice - Image classification and other general purpose networks (VGG, Inception, ResNet, ResNeXt, NASNet, EfficientNet, etc)\n",
       "Q26_Part_5                                                                                                              Which categories of computer vision methods do you use on a regular basis?  (Select all that apply) - Selected Choice - Generative Networks (GAN, VAE, etc)\n",
       "Q26_Part_6                                                                                                                                             Which categories of computer vision methods do you use on a regular basis?  (Select all that apply) - Selected Choice - None\n",
       "Q26_Part_7                                                                                                                                            Which categories of computer vision methods do you use on a regular basis?  (Select all that apply) - Selected Choice - Other\n",
       "Q26_OTHER_TEXT                                                                                                                                                   Which categories of computer vision methods do you use on a regular basis?  (Select all that apply) - Other - Text\n",
       "Q27_Part_1                                                                         Which of the following natural language processing (NLP) methods do you use on a regular basis?  (Select all that apply) - Selected Choice - Word embeddings/vectors (GLoVe, fastText, word2vec)\n",
       "Q27_Part_2                                                                     Which of the following natural language processing (NLP) methods do you use on a regular basis?  (Select all that apply) - Selected Choice - Encoder-decorder models (seq2seq, vanilla transformers)\n",
       "Q27_Part_3                                                                                      Which of the following natural language processing (NLP) methods do you use on a regular basis?  (Select all that apply) - Selected Choice - Contextualized embeddings (ELMo, CoVe)\n",
       "Q27_Part_4                                                                       Which of the following natural language processing (NLP) methods do you use on a regular basis?  (Select all that apply) - Selected Choice - Transformer language models (GPT-2, BERT, XLnet, etc)\n",
       "Q27_Part_5                                                                                                                        Which of the following natural language processing (NLP) methods do you use on a regular basis?  (Select all that apply) - Selected Choice - None\n",
       "Q27_Part_6                                                                                                                       Which of the following natural language processing (NLP) methods do you use on a regular basis?  (Select all that apply) - Selected Choice - Other\n",
       "Q27_OTHER_TEXT                                                                                                                              Which of the following natural language processing (NLP) methods do you use on a regular basis?  (Select all that apply) - Other - Text\n",
       "Q28_Part_1                                                                                                                            Which of the following machine learning frameworks do you use on a regular basis? (Select all that apply) - Selected Choice -   Scikit-learn \n",
       "Q28_Part_2                                                                                                                              Which of the following machine learning frameworks do you use on a regular basis? (Select all that apply) - Selected Choice -   TensorFlow \n",
       "Q28_Part_3                                                                                                                                    Which of the following machine learning frameworks do you use on a regular basis? (Select all that apply) - Selected Choice -  Keras \n",
       "Q28_Part_4                                                                                                                              Which of the following machine learning frameworks do you use on a regular basis? (Select all that apply) - Selected Choice -  RandomForest\n",
       "Q28_Part_5                                                                                                                                  Which of the following machine learning frameworks do you use on a regular basis? (Select all that apply) - Selected Choice -  Xgboost \n",
       "Q28_Part_6                                                                                                                                  Which of the following machine learning frameworks do you use on a regular basis? (Select all that apply) - Selected Choice -  PyTorch \n",
       "Q28_Part_7                                                                                                                                    Which of the following machine learning frameworks do you use on a regular basis? (Select all that apply) - Selected Choice -  Caret \n",
       "Q28_Part_8                                                                                                                                 Which of the following machine learning frameworks do you use on a regular basis? (Select all that apply) - Selected Choice -  LightGBM \n",
       "Q28_Part_9                                                                                                                               Which of the following machine learning frameworks do you use on a regular basis? (Select all that apply) - Selected Choice -  Spark MLib \n",
       "Q28_Part_10                                                                                                                                 Which of the following machine learning frameworks do you use on a regular basis? (Select all that apply) - Selected Choice -  Fast.ai \n",
       "Q28_Part_11                                                                                                                                      Which of the following machine learning frameworks do you use on a regular basis? (Select all that apply) - Selected Choice - None\n",
       "Q28_Part_12                                                                                                                                     Which of the following machine learning frameworks do you use on a regular basis? (Select all that apply) - Selected Choice - Other\n",
       "Q28_OTHER_TEXT                                                                                                                                             Which of the following machine learning frameworks do you use on a regular basis? (Select all that apply) - Other - Text\n",
       "Q29_Part_1                                                                                                                Which of the following cloud computing platforms do you use on a regular basis? (Select all that apply) - Selected Choice -  Google Cloud Platform (GCP) \n",
       "Q29_Part_2                                                                                                                  Which of the following cloud computing platforms do you use on a regular basis? (Select all that apply) - Selected Choice -  Amazon Web Services (AWS) \n",
       "Q29_Part_3                                                                                                                            Which of the following cloud computing platforms do you use on a regular basis? (Select all that apply) - Selected Choice -  Microsoft Azure \n",
       "Q29_Part_4                                                                                                                                  Which of the following cloud computing platforms do you use on a regular basis? (Select all that apply) - Selected Choice -  IBM Cloud \n",
       "Q29_Part_5                                                                                                                              Which of the following cloud computing platforms do you use on a regular basis? (Select all that apply) - Selected Choice -  Alibaba Cloud \n",
       "Q29_Part_6                                                                                                                           Which of the following cloud computing platforms do you use on a regular basis? (Select all that apply) - Selected Choice -  Salesforce Cloud \n",
       "Q29_Part_7                                                                                                                               Which of the following cloud computing platforms do you use on a regular basis? (Select all that apply) - Selected Choice -  Oracle Cloud \n",
       "Q29_Part_8                                                                                                                                  Which of the following cloud computing platforms do you use on a regular basis? (Select all that apply) - Selected Choice -  SAP Cloud \n",
       "Q29_Part_9                                                                                                                               Which of the following cloud computing platforms do you use on a regular basis? (Select all that apply) - Selected Choice -  VMware Cloud \n",
       "Q29_Part_10                                                                                                                             Which of the following cloud computing platforms do you use on a regular basis? (Select all that apply) - Selected Choice -  Red Hat Cloud \n",
       "Q29_Part_11                                                                                                                                        Which of the following cloud computing platforms do you use on a regular basis? (Select all that apply) - Selected Choice - None\n",
       "Q29_Part_12                                                                                                                                       Which of the following cloud computing platforms do you use on a regular basis? (Select all that apply) - Selected Choice - Other\n",
       "Q29_OTHER_TEXT                                                                                                                                               Which of the following cloud computing platforms do you use on a regular basis? (Select all that apply) - Other - Text\n",
       "Q30_Part_1                                                                                                                       Which specific cloud computing products do you use on a regular basis? (Select all that apply) - Selected Choice - AWS Elastic Compute Cloud (EC2)\n",
       "Q30_Part_2                                                                                                                           Which specific cloud computing products do you use on a regular basis? (Select all that apply) - Selected Choice - Google Compute Engine (GCE)\n",
       "Q30_Part_3                                                                                                                                            Which specific cloud computing products do you use on a regular basis? (Select all that apply) - Selected Choice - AWS Lambda\n",
       "Q30_Part_4                                                                                                                                Which specific cloud computing products do you use on a regular basis? (Select all that apply) - Selected Choice - Azure Virtual Machines\n",
       "Q30_Part_5                                                                                                                                     Which specific cloud computing products do you use on a regular basis? (Select all that apply) - Selected Choice - Google App Engine\n",
       "Q30_Part_6                                                                                                                                Which specific cloud computing products do you use on a regular basis? (Select all that apply) - Selected Choice - Google Cloud Functions\n",
       "Q30_Part_7                                                                                                                                 Which specific cloud computing products do you use on a regular basis? (Select all that apply) - Selected Choice - AWS Elastic Beanstalk\n",
       "Q30_Part_8                                                                                                                              Which specific cloud computing products do you use on a regular basis? (Select all that apply) - Selected Choice - Google Kubernetes Engine\n",
       "Q30_Part_9                                                                                                                                             Which specific cloud computing products do you use on a regular basis? (Select all that apply) - Selected Choice - AWS Batch\n",
       "Q30_Part_10                                                                                                                              Which specific cloud computing products do you use on a regular basis? (Select all that apply) - Selected Choice - Azure Container Service\n",
       "Q30_Part_11                                                                                                                                                 Which specific cloud computing products do you use on a regular basis? (Select all that apply) - Selected Choice - None\n",
       "Q30_Part_12                                                                                                                                                Which specific cloud computing products do you use on a regular basis? (Select all that apply) - Selected Choice - Other\n",
       "Q30_OTHER_TEXT                                                                                                                                                        Which specific cloud computing products do you use on a regular basis? (Select all that apply) - Other - Text\n",
       "Q31_Part_1                                                                                                                                  Which specific big data / analytics products do you use on a regular basis? (Select all that apply) - Selected Choice - Google BigQuery\n",
       "Q31_Part_2                                                                                                                                     Which specific big data / analytics products do you use on a regular basis? (Select all that apply) - Selected Choice - AWS Redshift\n",
       "Q31_Part_3                                                                                                                                       Which specific big data / analytics products do you use on a regular basis? (Select all that apply) - Selected Choice - Databricks\n",
       "Q31_Part_4                                                                                                                            Which specific big data / analytics products do you use on a regular basis? (Select all that apply) - Selected Choice - AWS Elastic MapReduce\n",
       "Q31_Part_5                                                                                                                                         Which specific big data / analytics products do you use on a regular basis? (Select all that apply) - Selected Choice - Teradata\n",
       "Q31_Part_6                                                                                                                      Which specific big data / analytics products do you use on a regular basis? (Select all that apply) - Selected Choice - Microsoft Analysis Services\n",
       "Q31_Part_7                                                                                                                            Which specific big data / analytics products do you use on a regular basis? (Select all that apply) - Selected Choice - Google Cloud Dataflow\n",
       "Q31_Part_8                                                                                                                                       Which specific big data / analytics products do you use on a regular basis? (Select all that apply) - Selected Choice - AWS Athena\n",
       "Q31_Part_9                                                                                                                                      Which specific big data / analytics products do you use on a regular basis? (Select all that apply) - Selected Choice - AWS Kinesis\n",
       "Q31_Part_10                                                                                                                            Which specific big data / analytics products do you use on a regular basis? (Select all that apply) - Selected Choice - Google Cloud Pub/Sub\n",
       "Q31_Part_11                                                                                                                                            Which specific big data / analytics products do you use on a regular basis? (Select all that apply) - Selected Choice - None\n",
       "Q31_Part_12                                                                                                                                           Which specific big data / analytics products do you use on a regular basis? (Select all that apply) - Selected Choice - Other\n",
       "Q31_OTHER_TEXT                                                                                                                                                   Which specific big data / analytics products do you use on a regular basis? (Select all that apply) - Other - Text\n",
       "Q32_Part_1                                                                                                                                          Which of the following machine learning products do you use on a regular basis? (Select all that apply) - Selected Choice - SAS\n",
       "Q32_Part_2                                                                                                                                     Which of the following machine learning products do you use on a regular basis? (Select all that apply) - Selected Choice - Cloudera\n",
       "Q32_Part_3                                                                                                                Which of the following machine learning products do you use on a regular basis? (Select all that apply) - Selected Choice - Azure Machine Learning Studio\n",
       "Q32_Part_4                                                                                                         Which of the following machine learning products do you use on a regular basis? (Select all that apply) - Selected Choice - Google Cloud Machine Learning Engine\n",
       "Q32_Part_5                                                                                                                          Which of the following machine learning products do you use on a regular basis? (Select all that apply) - Selected Choice - Google Cloud Vision\n",
       "Q32_Part_6                                                                                                                  Which of the following machine learning products do you use on a regular basis? (Select all that apply) - Selected Choice - Google Cloud Speech-to-Text\n",
       "Q32_Part_7                                                                                                                Which of the following machine learning products do you use on a regular basis? (Select all that apply) - Selected Choice - Google Cloud Natural Language\n",
       "Q32_Part_8                                                                                                                                   Which of the following machine learning products do you use on a regular basis? (Select all that apply) - Selected Choice - RapidMiner\n",
       "Q32_Part_9                                                                                                                     Which of the following machine learning products do you use on a regular basis? (Select all that apply) - Selected Choice - Google Cloud Translation\n",
       "Q32_Part_10                                                                                                                            Which of the following machine learning products do you use on a regular basis? (Select all that apply) - Selected Choice - Amazon SageMaker\n",
       "Q32_Part_11                                                                                                                                        Which of the following machine learning products do you use on a regular basis? (Select all that apply) - Selected Choice - None\n",
       "Q32_Part_12                                                                                                                                       Which of the following machine learning products do you use on a regular basis? (Select all that apply) - Selected Choice - Other\n",
       "Q32_OTHER_TEXT                                                                                                                                               Which of the following machine learning products do you use on a regular basis? (Select all that apply) - Other - Text\n",
       "Q33_Part_1                                                                                                             Which automated machine learning tools (or partial AutoML tools) do you use on a regular basis?  (Select all that apply) - Selected Choice -  Google AutoML \n",
       "Q33_Part_2                                                                                                        Which automated machine learning tools (or partial AutoML tools) do you use on a regular basis?  (Select all that apply) - Selected Choice -  H20 Driverless AI  \n",
       "Q33_Part_3                                                                                                         Which automated machine learning tools (or partial AutoML tools) do you use on a regular basis?  (Select all that apply) - Selected Choice -  Databricks AutoML \n",
       "Q33_Part_4                                                                                                          Which automated machine learning tools (or partial AutoML tools) do you use on a regular basis?  (Select all that apply) - Selected Choice -  DataRobot AutoML \n",
       "Q33_Part_5                                                                                                                     Which automated machine learning tools (or partial AutoML tools) do you use on a regular basis?  (Select all that apply) - Selected Choice -   Tpot \n",
       "Q33_Part_6                                                                                                               Which automated machine learning tools (or partial AutoML tools) do you use on a regular basis?  (Select all that apply) - Selected Choice -   Auto-Keras \n",
       "Q33_Part_7                                                                                                             Which automated machine learning tools (or partial AutoML tools) do you use on a regular basis?  (Select all that apply) - Selected Choice -   Auto-Sklearn \n",
       "Q33_Part_8                                                                                                                  Which automated machine learning tools (or partial AutoML tools) do you use on a regular basis?  (Select all that apply) - Selected Choice -   Auto_ml \n",
       "Q33_Part_9                                                                                                                  Which automated machine learning tools (or partial AutoML tools) do you use on a regular basis?  (Select all that apply) - Selected Choice -   Xcessiv \n",
       "Q33_Part_10                                                                                                                   Which automated machine learning tools (or partial AutoML tools) do you use on a regular basis?  (Select all that apply) - Selected Choice -   MLbox \n",
       "Q33_Part_11                                                                                                                       Which automated machine learning tools (or partial AutoML tools) do you use on a regular basis?  (Select all that apply) - Selected Choice - None\n",
       "Q33_Part_12                                                                                                                      Which automated machine learning tools (or partial AutoML tools) do you use on a regular basis?  (Select all that apply) - Selected Choice - Other\n",
       "Q33_OTHER_TEXT                                                                                                                              Which automated machine learning tools (or partial AutoML tools) do you use on a regular basis?  (Select all that apply) - Other - Text\n",
       "Q34_Part_1                                                                                                                                     Which of the following relational database products do you use on a regular basis? (Select all that apply) - Selected Choice - MySQL\n",
       "Q34_Part_2                                                                                                                               Which of the following relational database products do you use on a regular basis? (Select all that apply) - Selected Choice - PostgresSQL\n",
       "Q34_Part_3                                                                                                                                    Which of the following relational database products do you use on a regular basis? (Select all that apply) - Selected Choice - SQLite\n",
       "Q34_Part_4                                                                                                                      Which of the following relational database products do you use on a regular basis? (Select all that apply) - Selected Choice - Microsoft SQL Server\n",
       "Q34_Part_5                                                                                                                           Which of the following relational database products do you use on a regular basis? (Select all that apply) - Selected Choice - Oracle Database\n",
       "Q34_Part_6                                                                                                                          Which of the following relational database products do you use on a regular basis? (Select all that apply) - Selected Choice - Microsoft Access\n",
       "Q34_Part_7                                                                                                           Which of the following relational database products do you use on a regular basis? (Select all that apply) - Selected Choice - AWS Relational Database Service\n",
       "Q34_Part_8                                                                                                                              Which of the following relational database products do you use on a regular basis? (Select all that apply) - Selected Choice - AWS DynamoDB\n",
       "Q34_Part_9                                                                                                                        Which of the following relational database products do you use on a regular basis? (Select all that apply) - Selected Choice - Azure SQL Database\n",
       "Q34_Part_10                                                                                                                         Which of the following relational database products do you use on a regular basis? (Select all that apply) - Selected Choice - Google Cloud SQL\n",
       "Q34_Part_11                                                                                                                                     Which of the following relational database products do you use on a regular basis? (Select all that apply) - Selected Choice - None\n",
       "Q34_Part_12                                                                                                                                    Which of the following relational database products do you use on a regular basis? (Select all that apply) - Selected Choice - Other\n",
       "Q34_OTHER_TEXT                                                                                                                                            Which of the following relational database products do you use on a regular basis? (Select all that apply) - Other - Text\n",
       "Name: 0, dtype: object"
      ]
     },
     "execution_count": 84,
     "metadata": {},
     "output_type": "execute_result"
    }
   ],
   "source": [
    "# extract question\n",
    "questions = df.iloc[0,:]\n",
    "questions\n"
   ]
  },
  {
   "cell_type": "code",
   "execution_count": 7,
   "metadata": {},
   "outputs": [],
   "source": [
    "# drop questions\n",
    "df = df.drop(df.index[0])"
   ]
  },
  {
   "cell_type": "code",
   "execution_count": 8,
   "metadata": {},
   "outputs": [],
   "source": [
    "# check and drop duplicates\n",
    "df = df.drop_duplicates()"
   ]
  },
  {
   "cell_type": "code",
   "execution_count": 9,
   "metadata": {},
   "outputs": [],
   "source": [
    "# drop columns\n",
    "## possible to drop later: Q16, Q17, Q20, Q30, Q31, Q32\n",
    "\n",
    "drop_all = [\"Q26\", \"Time from Start to Finish\", \"Q11\", \"Q19\"]\n",
    "#df[df.columns.drop(list(df.filter(regex=\"Q26\", \"OTHER\", \"Time from Start to Finish (seconds)\", \"Q11\", \"Q19\")))]\n",
    "\n",
    "for col in drop_all:\n",
    "    df = df.loc[:,~df.columns.str.contains(col)]\n",
    "    "
   ]
  },
  {
   "cell_type": "code",
   "execution_count": 10,
   "metadata": {},
   "outputs": [],
   "source": [
    "# rename cols\n",
    "rename = {\"Q1\" : \"age\",\n",
    "          \"Q2\" : \"gender\",\n",
    "          \"Q3\" : \"country\",\n",
    "          \"Q4\" : \"degree\",\n",
    "          \"Q5\" : \"position\",\n",
    "          \"Q6\" : \"company_size\",\n",
    "          }\n",
    "df = df.rename(columns=rename)"
   ]
  },
  {
   "cell_type": "markdown",
   "metadata": {},
   "source": [
    "# 2. Extract subsets\n",
    "for further steps we extract the relevant countries"
   ]
  },
  {
   "cell_type": "code",
   "execution_count": 11,
   "metadata": {},
   "outputs": [],
   "source": [
    "india = df[df[\"country\"] == \"India\"]"
   ]
  },
  {
   "cell_type": "code",
   "execution_count": 12,
   "metadata": {},
   "outputs": [],
   "source": [
    "usa = df[df[\"country\"] == \"United States of America\"]"
   ]
  },
  {
   "cell_type": "markdown",
   "metadata": {},
   "source": [
    "## 2.1 some plotting"
   ]
  },
  {
   "cell_type": "code",
   "execution_count": 13,
   "metadata": {},
   "outputs": [],
   "source": [
    "df_tmp = df.copy()\n",
    "df_tmp[\"country\"] = np.where(df[\"country\"] != np.nan, \"global\", df[\"country\"])"
   ]
  },
  {
   "cell_type": "code",
   "execution_count": 14,
   "metadata": {},
   "outputs": [],
   "source": [
    "def perc(df, col):\n",
    "    \n",
    "    return round(100 * df[col].value_counts(normalize=True),2).to_frame()"
   ]
  },
  {
   "cell_type": "code",
   "execution_count": 15,
   "metadata": {
    "scrolled": true
   },
   "outputs": [],
   "source": [
    "# global_gender_dist = round(100 * df[\"gender\"].value_counts(normalize=True),2).to_frame().rename(columns={\"gender\" : \"global\"})\n",
    "# india_gender_dist = round(100 * india[\"gender\"].value_counts(normalize=True),2).to_frame().rename\n",
    "# usa_gender_dist = round(100 * usa[\"gender\"].value_counts(normalize=True),2).to_frame()\n",
    "# global_gender_dist"
   ]
  },
  {
   "cell_type": "code",
   "execution_count": 66,
   "metadata": {
    "scrolled": true
   },
   "outputs": [],
   "source": [
    "global_gender_dist = perc(df, \"gender\").rename(columns={\"gender\" : \"global\"})\n",
    "india_gender_dist = perc(india, \"gender\").rename(columns={\"gender\" : \"india\"})\n",
    "usa_gender_dist = perc(usa, \"gender\").rename(columns={\"gender\" : \"usa\"})\n",
    "\n",
    "df_gender = global_gender_dist.merge(right=india_gender_dist, how=\"inner\", left_index=True, right_index=True)\n",
    "df_gender= df_gender.merge(right=usa_gender_dist, how=\"inner\", left_index=True, right_index=True)"
   ]
  },
  {
   "cell_type": "markdown",
   "metadata": {},
   "source": [
    "### 2.1.0 Fig Standards"
   ]
  },
  {
   "cell_type": "code",
   "execution_count": 17,
   "metadata": {},
   "outputs": [],
   "source": [
    "figure_size = (12,6)"
   ]
  },
  {
   "cell_type": "markdown",
   "metadata": {},
   "source": [
    "### 2.1.1 Gender"
   ]
  },
  {
   "cell_type": "code",
   "execution_count": 27,
   "metadata": {},
   "outputs": [
    {
     "data": {
      "text/html": [
       "        <script type=\"text/javascript\">\n",
       "        window.PlotlyConfig = {MathJaxConfig: 'local'};\n",
       "        if (window.MathJax) {MathJax.Hub.Config({SVG: {font: \"STIX-Web\"}});}\n",
       "        if (typeof require !== 'undefined') {\n",
       "        require.undef(\"plotly\");\n",
       "        requirejs.config({\n",
       "            paths: {\n",
       "                'plotly': ['https://cdn.plot.ly/plotly-latest.min']\n",
       "            }\n",
       "        });\n",
       "        require(['plotly'], function(Plotly) {\n",
       "            window._Plotly = Plotly;\n",
       "        });\n",
       "        }\n",
       "        </script>\n",
       "        "
      ]
     },
     "metadata": {},
     "output_type": "display_data"
    }
   ],
   "source": [
    "# Before we can execute our scripts, we need to connect the JavaScript to our notebook. Since Plotly plots are interactive, they make use of JavaScript behind the scenes. \n",
    "from plotly.offline import download_plotlyjs, init_notebook_mode, plot, iplot\n",
    "import plotly.graph_objs as go\n",
    "init_notebook_mode(connected=True)"
   ]
  },
  {
   "cell_type": "markdown",
   "metadata": {},
   "source": [
    "map_data = dict(type='choropleth',\n",
    "            locations=['IND'],\n",
    "            locationmode='country names',\n",
    "            colorscale='India',\n",
    "            text=['India'],\n",
    "            z=[1.0,2.0,3.0,4.0],\n",
    "            colorbar=dict(title=\"USA States\")\n",
    "           )\n",
    "map_layout = dict(geo = {'scope':'world'})\n",
    "map_actual = go.Figure(data=[map_data], layout=map_layout)\n",
    "iplot(map_actual)"
   ]
  },
  {
   "cell_type": "markdown",
   "metadata": {},
   "source": [
    "px.choropleth(data_frame=df_gender,\n",
    "            locations=['INDIA', 'USA'],\n",
    "            locationmode='country names',\n",
    "            color=df_gender.index\n",
    "             )"
   ]
  },
  {
   "cell_type": "code",
   "execution_count": 77,
   "metadata": {
    "scrolled": true
   },
   "outputs": [
    {
     "data": {
      "application/vnd.plotly.v1+json": {
       "config": {
        "linkText": "Export to plot.ly",
        "plotlyServerURL": "https://plot.ly",
        "showLink": false
       },
       "data": [
        {
         "colorbar": {
          "title": {
           "text": "World Gender Distribution"
          }
         },
         "colorscale": [
          [
           0,
           "#440154"
          ],
          [
           0.1111111111111111,
           "#482878"
          ],
          [
           0.2222222222222222,
           "#3e4989"
          ],
          [
           0.3333333333333333,
           "#31688e"
          ],
          [
           0.4444444444444444,
           "#26828e"
          ],
          [
           0.5555555555555556,
           "#1f9e89"
          ],
          [
           0.6666666666666666,
           "#35b779"
          ],
          [
           0.7777777777777778,
           "#6ece58"
          ],
          [
           0.8888888888888888,
           "#b5de2b"
          ],
          [
           1,
           "#fde725"
          ]
         ],
         "locationmode": "country names",
         "locations": [
          "INDIA",
          "USA"
         ],
         "text": [],
         "type": "choropleth",
         "z": [
          81.84,
          77.37
         ]
        }
       ],
       "layout": {
        "geo": {
         "scope": "world"
        },
        "template": {
         "data": {
          "bar": [
           {
            "error_x": {
             "color": "#2a3f5f"
            },
            "error_y": {
             "color": "#2a3f5f"
            },
            "marker": {
             "line": {
              "color": "#E5ECF6",
              "width": 0.5
             }
            },
            "type": "bar"
           }
          ],
          "barpolar": [
           {
            "marker": {
             "line": {
              "color": "#E5ECF6",
              "width": 0.5
             }
            },
            "type": "barpolar"
           }
          ],
          "carpet": [
           {
            "aaxis": {
             "endlinecolor": "#2a3f5f",
             "gridcolor": "white",
             "linecolor": "white",
             "minorgridcolor": "white",
             "startlinecolor": "#2a3f5f"
            },
            "baxis": {
             "endlinecolor": "#2a3f5f",
             "gridcolor": "white",
             "linecolor": "white",
             "minorgridcolor": "white",
             "startlinecolor": "#2a3f5f"
            },
            "type": "carpet"
           }
          ],
          "choropleth": [
           {
            "colorbar": {
             "outlinewidth": 0,
             "ticks": ""
            },
            "type": "choropleth"
           }
          ],
          "contour": [
           {
            "colorbar": {
             "outlinewidth": 0,
             "ticks": ""
            },
            "colorscale": [
             [
              0,
              "#0d0887"
             ],
             [
              0.1111111111111111,
              "#46039f"
             ],
             [
              0.2222222222222222,
              "#7201a8"
             ],
             [
              0.3333333333333333,
              "#9c179e"
             ],
             [
              0.4444444444444444,
              "#bd3786"
             ],
             [
              0.5555555555555556,
              "#d8576b"
             ],
             [
              0.6666666666666666,
              "#ed7953"
             ],
             [
              0.7777777777777778,
              "#fb9f3a"
             ],
             [
              0.8888888888888888,
              "#fdca26"
             ],
             [
              1,
              "#f0f921"
             ]
            ],
            "type": "contour"
           }
          ],
          "contourcarpet": [
           {
            "colorbar": {
             "outlinewidth": 0,
             "ticks": ""
            },
            "type": "contourcarpet"
           }
          ],
          "heatmap": [
           {
            "colorbar": {
             "outlinewidth": 0,
             "ticks": ""
            },
            "colorscale": [
             [
              0,
              "#0d0887"
             ],
             [
              0.1111111111111111,
              "#46039f"
             ],
             [
              0.2222222222222222,
              "#7201a8"
             ],
             [
              0.3333333333333333,
              "#9c179e"
             ],
             [
              0.4444444444444444,
              "#bd3786"
             ],
             [
              0.5555555555555556,
              "#d8576b"
             ],
             [
              0.6666666666666666,
              "#ed7953"
             ],
             [
              0.7777777777777778,
              "#fb9f3a"
             ],
             [
              0.8888888888888888,
              "#fdca26"
             ],
             [
              1,
              "#f0f921"
             ]
            ],
            "type": "heatmap"
           }
          ],
          "heatmapgl": [
           {
            "colorbar": {
             "outlinewidth": 0,
             "ticks": ""
            },
            "colorscale": [
             [
              0,
              "#0d0887"
             ],
             [
              0.1111111111111111,
              "#46039f"
             ],
             [
              0.2222222222222222,
              "#7201a8"
             ],
             [
              0.3333333333333333,
              "#9c179e"
             ],
             [
              0.4444444444444444,
              "#bd3786"
             ],
             [
              0.5555555555555556,
              "#d8576b"
             ],
             [
              0.6666666666666666,
              "#ed7953"
             ],
             [
              0.7777777777777778,
              "#fb9f3a"
             ],
             [
              0.8888888888888888,
              "#fdca26"
             ],
             [
              1,
              "#f0f921"
             ]
            ],
            "type": "heatmapgl"
           }
          ],
          "histogram": [
           {
            "marker": {
             "colorbar": {
              "outlinewidth": 0,
              "ticks": ""
             }
            },
            "type": "histogram"
           }
          ],
          "histogram2d": [
           {
            "colorbar": {
             "outlinewidth": 0,
             "ticks": ""
            },
            "colorscale": [
             [
              0,
              "#0d0887"
             ],
             [
              0.1111111111111111,
              "#46039f"
             ],
             [
              0.2222222222222222,
              "#7201a8"
             ],
             [
              0.3333333333333333,
              "#9c179e"
             ],
             [
              0.4444444444444444,
              "#bd3786"
             ],
             [
              0.5555555555555556,
              "#d8576b"
             ],
             [
              0.6666666666666666,
              "#ed7953"
             ],
             [
              0.7777777777777778,
              "#fb9f3a"
             ],
             [
              0.8888888888888888,
              "#fdca26"
             ],
             [
              1,
              "#f0f921"
             ]
            ],
            "type": "histogram2d"
           }
          ],
          "histogram2dcontour": [
           {
            "colorbar": {
             "outlinewidth": 0,
             "ticks": ""
            },
            "colorscale": [
             [
              0,
              "#0d0887"
             ],
             [
              0.1111111111111111,
              "#46039f"
             ],
             [
              0.2222222222222222,
              "#7201a8"
             ],
             [
              0.3333333333333333,
              "#9c179e"
             ],
             [
              0.4444444444444444,
              "#bd3786"
             ],
             [
              0.5555555555555556,
              "#d8576b"
             ],
             [
              0.6666666666666666,
              "#ed7953"
             ],
             [
              0.7777777777777778,
              "#fb9f3a"
             ],
             [
              0.8888888888888888,
              "#fdca26"
             ],
             [
              1,
              "#f0f921"
             ]
            ],
            "type": "histogram2dcontour"
           }
          ],
          "mesh3d": [
           {
            "colorbar": {
             "outlinewidth": 0,
             "ticks": ""
            },
            "type": "mesh3d"
           }
          ],
          "parcoords": [
           {
            "line": {
             "colorbar": {
              "outlinewidth": 0,
              "ticks": ""
             }
            },
            "type": "parcoords"
           }
          ],
          "pie": [
           {
            "automargin": true,
            "type": "pie"
           }
          ],
          "scatter": [
           {
            "marker": {
             "colorbar": {
              "outlinewidth": 0,
              "ticks": ""
             }
            },
            "type": "scatter"
           }
          ],
          "scatter3d": [
           {
            "line": {
             "colorbar": {
              "outlinewidth": 0,
              "ticks": ""
             }
            },
            "marker": {
             "colorbar": {
              "outlinewidth": 0,
              "ticks": ""
             }
            },
            "type": "scatter3d"
           }
          ],
          "scattercarpet": [
           {
            "marker": {
             "colorbar": {
              "outlinewidth": 0,
              "ticks": ""
             }
            },
            "type": "scattercarpet"
           }
          ],
          "scattergeo": [
           {
            "marker": {
             "colorbar": {
              "outlinewidth": 0,
              "ticks": ""
             }
            },
            "type": "scattergeo"
           }
          ],
          "scattergl": [
           {
            "marker": {
             "colorbar": {
              "outlinewidth": 0,
              "ticks": ""
             }
            },
            "type": "scattergl"
           }
          ],
          "scattermapbox": [
           {
            "marker": {
             "colorbar": {
              "outlinewidth": 0,
              "ticks": ""
             }
            },
            "type": "scattermapbox"
           }
          ],
          "scatterpolar": [
           {
            "marker": {
             "colorbar": {
              "outlinewidth": 0,
              "ticks": ""
             }
            },
            "type": "scatterpolar"
           }
          ],
          "scatterpolargl": [
           {
            "marker": {
             "colorbar": {
              "outlinewidth": 0,
              "ticks": ""
             }
            },
            "type": "scatterpolargl"
           }
          ],
          "scatterternary": [
           {
            "marker": {
             "colorbar": {
              "outlinewidth": 0,
              "ticks": ""
             }
            },
            "type": "scatterternary"
           }
          ],
          "surface": [
           {
            "colorbar": {
             "outlinewidth": 0,
             "ticks": ""
            },
            "colorscale": [
             [
              0,
              "#0d0887"
             ],
             [
              0.1111111111111111,
              "#46039f"
             ],
             [
              0.2222222222222222,
              "#7201a8"
             ],
             [
              0.3333333333333333,
              "#9c179e"
             ],
             [
              0.4444444444444444,
              "#bd3786"
             ],
             [
              0.5555555555555556,
              "#d8576b"
             ],
             [
              0.6666666666666666,
              "#ed7953"
             ],
             [
              0.7777777777777778,
              "#fb9f3a"
             ],
             [
              0.8888888888888888,
              "#fdca26"
             ],
             [
              1,
              "#f0f921"
             ]
            ],
            "type": "surface"
           }
          ],
          "table": [
           {
            "cells": {
             "fill": {
              "color": "#EBF0F8"
             },
             "line": {
              "color": "white"
             }
            },
            "header": {
             "fill": {
              "color": "#C8D4E3"
             },
             "line": {
              "color": "white"
             }
            },
            "type": "table"
           }
          ]
         },
         "layout": {
          "annotationdefaults": {
           "arrowcolor": "#2a3f5f",
           "arrowhead": 0,
           "arrowwidth": 1
          },
          "coloraxis": {
           "colorbar": {
            "outlinewidth": 0,
            "ticks": ""
           }
          },
          "colorscale": {
           "diverging": [
            [
             0,
             "#8e0152"
            ],
            [
             0.1,
             "#c51b7d"
            ],
            [
             0.2,
             "#de77ae"
            ],
            [
             0.3,
             "#f1b6da"
            ],
            [
             0.4,
             "#fde0ef"
            ],
            [
             0.5,
             "#f7f7f7"
            ],
            [
             0.6,
             "#e6f5d0"
            ],
            [
             0.7,
             "#b8e186"
            ],
            [
             0.8,
             "#7fbc41"
            ],
            [
             0.9,
             "#4d9221"
            ],
            [
             1,
             "#276419"
            ]
           ],
           "sequential": [
            [
             0,
             "#0d0887"
            ],
            [
             0.1111111111111111,
             "#46039f"
            ],
            [
             0.2222222222222222,
             "#7201a8"
            ],
            [
             0.3333333333333333,
             "#9c179e"
            ],
            [
             0.4444444444444444,
             "#bd3786"
            ],
            [
             0.5555555555555556,
             "#d8576b"
            ],
            [
             0.6666666666666666,
             "#ed7953"
            ],
            [
             0.7777777777777778,
             "#fb9f3a"
            ],
            [
             0.8888888888888888,
             "#fdca26"
            ],
            [
             1,
             "#f0f921"
            ]
           ],
           "sequentialminus": [
            [
             0,
             "#0d0887"
            ],
            [
             0.1111111111111111,
             "#46039f"
            ],
            [
             0.2222222222222222,
             "#7201a8"
            ],
            [
             0.3333333333333333,
             "#9c179e"
            ],
            [
             0.4444444444444444,
             "#bd3786"
            ],
            [
             0.5555555555555556,
             "#d8576b"
            ],
            [
             0.6666666666666666,
             "#ed7953"
            ],
            [
             0.7777777777777778,
             "#fb9f3a"
            ],
            [
             0.8888888888888888,
             "#fdca26"
            ],
            [
             1,
             "#f0f921"
            ]
           ]
          },
          "colorway": [
           "#636efa",
           "#EF553B",
           "#00cc96",
           "#ab63fa",
           "#FFA15A",
           "#19d3f3",
           "#FF6692",
           "#B6E880",
           "#FF97FF",
           "#FECB52"
          ],
          "font": {
           "color": "#2a3f5f"
          },
          "geo": {
           "bgcolor": "white",
           "lakecolor": "white",
           "landcolor": "#E5ECF6",
           "showlakes": true,
           "showland": true,
           "subunitcolor": "white"
          },
          "hoverlabel": {
           "align": "left"
          },
          "hovermode": "closest",
          "mapbox": {
           "style": "light"
          },
          "paper_bgcolor": "white",
          "plot_bgcolor": "#E5ECF6",
          "polar": {
           "angularaxis": {
            "gridcolor": "white",
            "linecolor": "white",
            "ticks": ""
           },
           "bgcolor": "#E5ECF6",
           "radialaxis": {
            "gridcolor": "white",
            "linecolor": "white",
            "ticks": ""
           }
          },
          "scene": {
           "xaxis": {
            "backgroundcolor": "#E5ECF6",
            "gridcolor": "white",
            "gridwidth": 2,
            "linecolor": "white",
            "showbackground": true,
            "ticks": "",
            "zerolinecolor": "white"
           },
           "yaxis": {
            "backgroundcolor": "#E5ECF6",
            "gridcolor": "white",
            "gridwidth": 2,
            "linecolor": "white",
            "showbackground": true,
            "ticks": "",
            "zerolinecolor": "white"
           },
           "zaxis": {
            "backgroundcolor": "#E5ECF6",
            "gridcolor": "white",
            "gridwidth": 2,
            "linecolor": "white",
            "showbackground": true,
            "ticks": "",
            "zerolinecolor": "white"
           }
          },
          "shapedefaults": {
           "line": {
            "color": "#2a3f5f"
           }
          },
          "ternary": {
           "aaxis": {
            "gridcolor": "white",
            "linecolor": "white",
            "ticks": ""
           },
           "baxis": {
            "gridcolor": "white",
            "linecolor": "white",
            "ticks": ""
           },
           "bgcolor": "#E5ECF6",
           "caxis": {
            "gridcolor": "white",
            "linecolor": "white",
            "ticks": ""
           }
          },
          "title": {
           "x": 0.05
          },
          "xaxis": {
           "automargin": true,
           "gridcolor": "white",
           "linecolor": "white",
           "ticks": "",
           "title": {
            "standoff": 15
           },
           "zerolinecolor": "white",
           "zerolinewidth": 2
          },
          "yaxis": {
           "automargin": true,
           "gridcolor": "white",
           "linecolor": "white",
           "ticks": "",
           "title": {
            "standoff": 15
           },
           "zerolinecolor": "white",
           "zerolinewidth": 2
          }
         }
        }
       }
      },
      "text/html": [
       "<div>\n",
       "        \n",
       "        \n",
       "            <div id=\"e44c92f2-7d14-431d-b329-c0505bfa37d6\" class=\"plotly-graph-div\" style=\"height:525px; width:100%;\"></div>\n",
       "            <script type=\"text/javascript\">\n",
       "                require([\"plotly\"], function(Plotly) {\n",
       "                    window.PLOTLYENV=window.PLOTLYENV || {};\n",
       "                    \n",
       "                if (document.getElementById(\"e44c92f2-7d14-431d-b329-c0505bfa37d6\")) {\n",
       "                    Plotly.newPlot(\n",
       "                        'e44c92f2-7d14-431d-b329-c0505bfa37d6',\n",
       "                        [{\"colorbar\": {\"title\": {\"text\": \"World Gender Distribution\"}}, \"colorscale\": [[0.0, \"#440154\"], [0.1111111111111111, \"#482878\"], [0.2222222222222222, \"#3e4989\"], [0.3333333333333333, \"#31688e\"], [0.4444444444444444, \"#26828e\"], [0.5555555555555556, \"#1f9e89\"], [0.6666666666666666, \"#35b779\"], [0.7777777777777778, \"#6ece58\"], [0.8888888888888888, \"#b5de2b\"], [1.0, \"#fde725\"]], \"locationmode\": \"country names\", \"locations\": [\"INDIA\", \"USA\"], \"text\": [], \"type\": \"choropleth\", \"z\": [81.84, 77.37]}],\n",
       "                        {\"geo\": {\"scope\": \"world\"}, \"template\": {\"data\": {\"bar\": [{\"error_x\": {\"color\": \"#2a3f5f\"}, \"error_y\": {\"color\": \"#2a3f5f\"}, \"marker\": {\"line\": {\"color\": \"#E5ECF6\", \"width\": 0.5}}, \"type\": \"bar\"}], \"barpolar\": [{\"marker\": {\"line\": {\"color\": \"#E5ECF6\", \"width\": 0.5}}, \"type\": \"barpolar\"}], \"carpet\": [{\"aaxis\": {\"endlinecolor\": \"#2a3f5f\", \"gridcolor\": \"white\", \"linecolor\": \"white\", \"minorgridcolor\": \"white\", \"startlinecolor\": \"#2a3f5f\"}, \"baxis\": {\"endlinecolor\": \"#2a3f5f\", \"gridcolor\": \"white\", \"linecolor\": \"white\", \"minorgridcolor\": \"white\", \"startlinecolor\": \"#2a3f5f\"}, \"type\": \"carpet\"}], \"choropleth\": [{\"colorbar\": {\"outlinewidth\": 0, \"ticks\": \"\"}, \"type\": \"choropleth\"}], \"contour\": [{\"colorbar\": {\"outlinewidth\": 0, \"ticks\": \"\"}, \"colorscale\": [[0.0, \"#0d0887\"], [0.1111111111111111, \"#46039f\"], [0.2222222222222222, \"#7201a8\"], [0.3333333333333333, \"#9c179e\"], [0.4444444444444444, \"#bd3786\"], [0.5555555555555556, \"#d8576b\"], [0.6666666666666666, \"#ed7953\"], [0.7777777777777778, \"#fb9f3a\"], [0.8888888888888888, \"#fdca26\"], [1.0, \"#f0f921\"]], \"type\": \"contour\"}], \"contourcarpet\": [{\"colorbar\": {\"outlinewidth\": 0, \"ticks\": \"\"}, \"type\": \"contourcarpet\"}], \"heatmap\": [{\"colorbar\": {\"outlinewidth\": 0, \"ticks\": \"\"}, \"colorscale\": [[0.0, \"#0d0887\"], [0.1111111111111111, \"#46039f\"], [0.2222222222222222, \"#7201a8\"], [0.3333333333333333, \"#9c179e\"], [0.4444444444444444, \"#bd3786\"], [0.5555555555555556, \"#d8576b\"], [0.6666666666666666, \"#ed7953\"], [0.7777777777777778, \"#fb9f3a\"], [0.8888888888888888, \"#fdca26\"], [1.0, \"#f0f921\"]], \"type\": \"heatmap\"}], \"heatmapgl\": [{\"colorbar\": {\"outlinewidth\": 0, \"ticks\": \"\"}, \"colorscale\": [[0.0, \"#0d0887\"], [0.1111111111111111, \"#46039f\"], [0.2222222222222222, \"#7201a8\"], [0.3333333333333333, \"#9c179e\"], [0.4444444444444444, \"#bd3786\"], [0.5555555555555556, \"#d8576b\"], [0.6666666666666666, \"#ed7953\"], [0.7777777777777778, \"#fb9f3a\"], [0.8888888888888888, \"#fdca26\"], [1.0, \"#f0f921\"]], \"type\": \"heatmapgl\"}], \"histogram\": [{\"marker\": {\"colorbar\": {\"outlinewidth\": 0, \"ticks\": \"\"}}, \"type\": \"histogram\"}], \"histogram2d\": [{\"colorbar\": {\"outlinewidth\": 0, \"ticks\": \"\"}, \"colorscale\": [[0.0, \"#0d0887\"], [0.1111111111111111, \"#46039f\"], [0.2222222222222222, \"#7201a8\"], [0.3333333333333333, \"#9c179e\"], [0.4444444444444444, \"#bd3786\"], [0.5555555555555556, \"#d8576b\"], [0.6666666666666666, \"#ed7953\"], [0.7777777777777778, \"#fb9f3a\"], [0.8888888888888888, \"#fdca26\"], [1.0, \"#f0f921\"]], \"type\": \"histogram2d\"}], \"histogram2dcontour\": [{\"colorbar\": {\"outlinewidth\": 0, \"ticks\": \"\"}, \"colorscale\": [[0.0, \"#0d0887\"], [0.1111111111111111, \"#46039f\"], [0.2222222222222222, \"#7201a8\"], [0.3333333333333333, \"#9c179e\"], [0.4444444444444444, \"#bd3786\"], [0.5555555555555556, \"#d8576b\"], [0.6666666666666666, \"#ed7953\"], [0.7777777777777778, \"#fb9f3a\"], [0.8888888888888888, \"#fdca26\"], [1.0, \"#f0f921\"]], \"type\": \"histogram2dcontour\"}], \"mesh3d\": [{\"colorbar\": {\"outlinewidth\": 0, \"ticks\": \"\"}, \"type\": \"mesh3d\"}], \"parcoords\": [{\"line\": {\"colorbar\": {\"outlinewidth\": 0, \"ticks\": \"\"}}, \"type\": \"parcoords\"}], \"pie\": [{\"automargin\": true, \"type\": \"pie\"}], \"scatter\": [{\"marker\": {\"colorbar\": {\"outlinewidth\": 0, \"ticks\": \"\"}}, \"type\": \"scatter\"}], \"scatter3d\": [{\"line\": {\"colorbar\": {\"outlinewidth\": 0, \"ticks\": \"\"}}, \"marker\": {\"colorbar\": {\"outlinewidth\": 0, \"ticks\": \"\"}}, \"type\": \"scatter3d\"}], \"scattercarpet\": [{\"marker\": {\"colorbar\": {\"outlinewidth\": 0, \"ticks\": \"\"}}, \"type\": \"scattercarpet\"}], \"scattergeo\": [{\"marker\": {\"colorbar\": {\"outlinewidth\": 0, \"ticks\": \"\"}}, \"type\": \"scattergeo\"}], \"scattergl\": [{\"marker\": {\"colorbar\": {\"outlinewidth\": 0, \"ticks\": \"\"}}, \"type\": \"scattergl\"}], \"scattermapbox\": [{\"marker\": {\"colorbar\": {\"outlinewidth\": 0, \"ticks\": \"\"}}, \"type\": \"scattermapbox\"}], \"scatterpolar\": [{\"marker\": {\"colorbar\": {\"outlinewidth\": 0, \"ticks\": \"\"}}, \"type\": \"scatterpolar\"}], \"scatterpolargl\": [{\"marker\": {\"colorbar\": {\"outlinewidth\": 0, \"ticks\": \"\"}}, \"type\": \"scatterpolargl\"}], \"scatterternary\": [{\"marker\": {\"colorbar\": {\"outlinewidth\": 0, \"ticks\": \"\"}}, \"type\": \"scatterternary\"}], \"surface\": [{\"colorbar\": {\"outlinewidth\": 0, \"ticks\": \"\"}, \"colorscale\": [[0.0, \"#0d0887\"], [0.1111111111111111, \"#46039f\"], [0.2222222222222222, \"#7201a8\"], [0.3333333333333333, \"#9c179e\"], [0.4444444444444444, \"#bd3786\"], [0.5555555555555556, \"#d8576b\"], [0.6666666666666666, \"#ed7953\"], [0.7777777777777778, \"#fb9f3a\"], [0.8888888888888888, \"#fdca26\"], [1.0, \"#f0f921\"]], \"type\": \"surface\"}], \"table\": [{\"cells\": {\"fill\": {\"color\": \"#EBF0F8\"}, \"line\": {\"color\": \"white\"}}, \"header\": {\"fill\": {\"color\": \"#C8D4E3\"}, \"line\": {\"color\": \"white\"}}, \"type\": \"table\"}]}, \"layout\": {\"annotationdefaults\": {\"arrowcolor\": \"#2a3f5f\", \"arrowhead\": 0, \"arrowwidth\": 1}, \"coloraxis\": {\"colorbar\": {\"outlinewidth\": 0, \"ticks\": \"\"}}, \"colorscale\": {\"diverging\": [[0, \"#8e0152\"], [0.1, \"#c51b7d\"], [0.2, \"#de77ae\"], [0.3, \"#f1b6da\"], [0.4, \"#fde0ef\"], [0.5, \"#f7f7f7\"], [0.6, \"#e6f5d0\"], [0.7, \"#b8e186\"], [0.8, \"#7fbc41\"], [0.9, \"#4d9221\"], [1, \"#276419\"]], \"sequential\": [[0.0, \"#0d0887\"], [0.1111111111111111, \"#46039f\"], [0.2222222222222222, \"#7201a8\"], [0.3333333333333333, \"#9c179e\"], [0.4444444444444444, \"#bd3786\"], [0.5555555555555556, \"#d8576b\"], [0.6666666666666666, \"#ed7953\"], [0.7777777777777778, \"#fb9f3a\"], [0.8888888888888888, \"#fdca26\"], [1.0, \"#f0f921\"]], \"sequentialminus\": [[0.0, \"#0d0887\"], [0.1111111111111111, \"#46039f\"], [0.2222222222222222, \"#7201a8\"], [0.3333333333333333, \"#9c179e\"], [0.4444444444444444, \"#bd3786\"], [0.5555555555555556, \"#d8576b\"], [0.6666666666666666, \"#ed7953\"], [0.7777777777777778, \"#fb9f3a\"], [0.8888888888888888, \"#fdca26\"], [1.0, \"#f0f921\"]]}, \"colorway\": [\"#636efa\", \"#EF553B\", \"#00cc96\", \"#ab63fa\", \"#FFA15A\", \"#19d3f3\", \"#FF6692\", \"#B6E880\", \"#FF97FF\", \"#FECB52\"], \"font\": {\"color\": \"#2a3f5f\"}, \"geo\": {\"bgcolor\": \"white\", \"lakecolor\": \"white\", \"landcolor\": \"#E5ECF6\", \"showlakes\": true, \"showland\": true, \"subunitcolor\": \"white\"}, \"hoverlabel\": {\"align\": \"left\"}, \"hovermode\": \"closest\", \"mapbox\": {\"style\": \"light\"}, \"paper_bgcolor\": \"white\", \"plot_bgcolor\": \"#E5ECF6\", \"polar\": {\"angularaxis\": {\"gridcolor\": \"white\", \"linecolor\": \"white\", \"ticks\": \"\"}, \"bgcolor\": \"#E5ECF6\", \"radialaxis\": {\"gridcolor\": \"white\", \"linecolor\": \"white\", \"ticks\": \"\"}}, \"scene\": {\"xaxis\": {\"backgroundcolor\": \"#E5ECF6\", \"gridcolor\": \"white\", \"gridwidth\": 2, \"linecolor\": \"white\", \"showbackground\": true, \"ticks\": \"\", \"zerolinecolor\": \"white\"}, \"yaxis\": {\"backgroundcolor\": \"#E5ECF6\", \"gridcolor\": \"white\", \"gridwidth\": 2, \"linecolor\": \"white\", \"showbackground\": true, \"ticks\": \"\", \"zerolinecolor\": \"white\"}, \"zaxis\": {\"backgroundcolor\": \"#E5ECF6\", \"gridcolor\": \"white\", \"gridwidth\": 2, \"linecolor\": \"white\", \"showbackground\": true, \"ticks\": \"\", \"zerolinecolor\": \"white\"}}, \"shapedefaults\": {\"line\": {\"color\": \"#2a3f5f\"}}, \"ternary\": {\"aaxis\": {\"gridcolor\": \"white\", \"linecolor\": \"white\", \"ticks\": \"\"}, \"baxis\": {\"gridcolor\": \"white\", \"linecolor\": \"white\", \"ticks\": \"\"}, \"bgcolor\": \"#E5ECF6\", \"caxis\": {\"gridcolor\": \"white\", \"linecolor\": \"white\", \"ticks\": \"\"}}, \"title\": {\"x\": 0.05}, \"xaxis\": {\"automargin\": true, \"gridcolor\": \"white\", \"linecolor\": \"white\", \"ticks\": \"\", \"title\": {\"standoff\": 15}, \"zerolinecolor\": \"white\", \"zerolinewidth\": 2}, \"yaxis\": {\"automargin\": true, \"gridcolor\": \"white\", \"linecolor\": \"white\", \"ticks\": \"\", \"title\": {\"standoff\": 15}, \"zerolinecolor\": \"white\", \"zerolinewidth\": 2}}}},\n",
       "                        {\"responsive\": true}\n",
       "                    ).then(function(){\n",
       "                            \n",
       "var gd = document.getElementById('e44c92f2-7d14-431d-b329-c0505bfa37d6');\n",
       "var x = new MutationObserver(function (mutations, observer) {{\n",
       "        var display = window.getComputedStyle(gd).display;\n",
       "        if (!display || display === 'none') {{\n",
       "            console.log([gd, 'removed!']);\n",
       "            Plotly.purge(gd);\n",
       "            observer.disconnect();\n",
       "        }}\n",
       "}});\n",
       "\n",
       "// Listen for the removal of the full notebook cells\n",
       "var notebookContainer = gd.closest('#notebook-container');\n",
       "if (notebookContainer) {{\n",
       "    x.observe(notebookContainer, {childList: true});\n",
       "}}\n",
       "\n",
       "// Listen for the clearing of the current output cell\n",
       "var outputEl = gd.closest('.output');\n",
       "if (outputEl) {{\n",
       "    x.observe(outputEl, {childList: true});\n",
       "}}\n",
       "\n",
       "                        })\n",
       "                };\n",
       "                });\n",
       "            </script>\n",
       "        </div>"
      ]
     },
     "metadata": {},
     "output_type": "display_data"
    }
   ],
   "source": [
    "map_data = dict(type='choropleth',\n",
    "            locations=['INDIA', 'USA'],\n",
    "            locationmode='country names',\n",
    "            colorscale='Viridis',\n",
    "            text=[],\n",
    "            z=[81.84, 77.37],\n",
    "            colorbar=dict(title=\"World Gender Distribution\"),\n",
    ")\n",
    "map_layout = dict(geo = {'scope':'world'})\n",
    "map_actual = go.Figure(data=[map_data], layout=map_layout)\n",
    "iplot(map_actual)"
   ]
  },
  {
   "cell_type": "code",
   "execution_count": null,
   "metadata": {},
   "outputs": [],
   "source": [
    "fig , ax = plt.subplots(figsize=figure_size)\n",
    "sns.barplot(data=df_gender, x=[\"global\", \"india\"]).set(xlabel=\"Gender\");"
   ]
  },
  {
   "cell_type": "markdown",
   "metadata": {},
   "source": [
    "### 2.1.2 Age"
   ]
  },
  {
   "cell_type": "code",
   "execution_count": 85,
   "metadata": {},
   "outputs": [
    {
     "ename": "ValueError",
     "evalue": "Could not interpret input 'Q10'",
     "output_type": "error",
     "traceback": [
      "\u001b[1;31m---------------------------------------------------------------------------\u001b[0m",
      "\u001b[1;31mValueError\u001b[0m                                Traceback (most recent call last)",
      "\u001b[1;32m<ipython-input-85-db4f0cf2c07f>\u001b[0m in \u001b[0;36m<module>\u001b[1;34m\u001b[0m\n\u001b[1;32m----> 1\u001b[1;33m \u001b[0msns\u001b[0m\u001b[1;33m.\u001b[0m\u001b[0mscatterplot\u001b[0m\u001b[1;33m(\u001b[0m\u001b[0mdf\u001b[0m\u001b[1;33m,\u001b[0m \u001b[0my\u001b[0m\u001b[1;33m=\u001b[0m\u001b[1;34m\"Q10\"\u001b[0m\u001b[1;33m)\u001b[0m\u001b[1;33m\u001b[0m\u001b[1;33m\u001b[0m\u001b[0m\n\u001b[0m",
      "\u001b[1;32m~\\Miniconda3\\lib\\site-packages\\seaborn\\relational.py\u001b[0m in \u001b[0;36mscatterplot\u001b[1;34m(x, y, hue, style, size, data, palette, hue_order, hue_norm, sizes, size_order, size_norm, markers, style_order, x_bins, y_bins, units, estimator, ci, n_boot, alpha, x_jitter, y_jitter, legend, ax, **kwargs)\u001b[0m\n\u001b[0;32m   1333\u001b[0m         \u001b[0mx_bins\u001b[0m\u001b[1;33m=\u001b[0m\u001b[0mx_bins\u001b[0m\u001b[1;33m,\u001b[0m \u001b[0my_bins\u001b[0m\u001b[1;33m=\u001b[0m\u001b[0my_bins\u001b[0m\u001b[1;33m,\u001b[0m\u001b[1;33m\u001b[0m\u001b[1;33m\u001b[0m\u001b[0m\n\u001b[0;32m   1334\u001b[0m         \u001b[0mestimator\u001b[0m\u001b[1;33m=\u001b[0m\u001b[0mestimator\u001b[0m\u001b[1;33m,\u001b[0m \u001b[0mci\u001b[0m\u001b[1;33m=\u001b[0m\u001b[0mci\u001b[0m\u001b[1;33m,\u001b[0m \u001b[0mn_boot\u001b[0m\u001b[1;33m=\u001b[0m\u001b[0mn_boot\u001b[0m\u001b[1;33m,\u001b[0m\u001b[1;33m\u001b[0m\u001b[1;33m\u001b[0m\u001b[0m\n\u001b[1;32m-> 1335\u001b[1;33m         \u001b[0malpha\u001b[0m\u001b[1;33m=\u001b[0m\u001b[0malpha\u001b[0m\u001b[1;33m,\u001b[0m \u001b[0mx_jitter\u001b[0m\u001b[1;33m=\u001b[0m\u001b[0mx_jitter\u001b[0m\u001b[1;33m,\u001b[0m \u001b[0my_jitter\u001b[0m\u001b[1;33m=\u001b[0m\u001b[0my_jitter\u001b[0m\u001b[1;33m,\u001b[0m \u001b[0mlegend\u001b[0m\u001b[1;33m=\u001b[0m\u001b[0mlegend\u001b[0m\u001b[1;33m,\u001b[0m\u001b[1;33m\u001b[0m\u001b[1;33m\u001b[0m\u001b[0m\n\u001b[0m\u001b[0;32m   1336\u001b[0m     )\n\u001b[0;32m   1337\u001b[0m \u001b[1;33m\u001b[0m\u001b[0m\n",
      "\u001b[1;32m~\\Miniconda3\\lib\\site-packages\\seaborn\\relational.py\u001b[0m in \u001b[0;36m__init__\u001b[1;34m(self, x, y, hue, size, style, data, palette, hue_order, hue_norm, sizes, size_order, size_norm, dashes, markers, style_order, x_bins, y_bins, units, estimator, ci, n_boot, alpha, x_jitter, y_jitter, legend)\u001b[0m\n\u001b[0;32m    850\u001b[0m \u001b[1;33m\u001b[0m\u001b[0m\n\u001b[0;32m    851\u001b[0m         plot_data = self.establish_variables(\n\u001b[1;32m--> 852\u001b[1;33m             \u001b[0mx\u001b[0m\u001b[1;33m,\u001b[0m \u001b[0my\u001b[0m\u001b[1;33m,\u001b[0m \u001b[0mhue\u001b[0m\u001b[1;33m,\u001b[0m \u001b[0msize\u001b[0m\u001b[1;33m,\u001b[0m \u001b[0mstyle\u001b[0m\u001b[1;33m,\u001b[0m \u001b[0munits\u001b[0m\u001b[1;33m,\u001b[0m \u001b[0mdata\u001b[0m\u001b[1;33m\u001b[0m\u001b[1;33m\u001b[0m\u001b[0m\n\u001b[0m\u001b[0;32m    853\u001b[0m         )\n\u001b[0;32m    854\u001b[0m \u001b[1;33m\u001b[0m\u001b[0m\n",
      "\u001b[1;32m~\\Miniconda3\\lib\\site-packages\\seaborn\\relational.py\u001b[0m in \u001b[0;36mestablish_variables\u001b[1;34m(self, x, y, hue, size, style, units, data)\u001b[0m\n\u001b[0;32m    140\u001b[0m                 \u001b[1;32mif\u001b[0m \u001b[0misinstance\u001b[0m\u001b[1;33m(\u001b[0m\u001b[0mvar\u001b[0m\u001b[1;33m,\u001b[0m \u001b[0mstring_types\u001b[0m\u001b[1;33m)\u001b[0m\u001b[1;33m:\u001b[0m\u001b[1;33m\u001b[0m\u001b[1;33m\u001b[0m\u001b[0m\n\u001b[0;32m    141\u001b[0m                     \u001b[0merr\u001b[0m \u001b[1;33m=\u001b[0m \u001b[1;34m\"Could not interpret input '{}'\"\u001b[0m\u001b[1;33m.\u001b[0m\u001b[0mformat\u001b[0m\u001b[1;33m(\u001b[0m\u001b[0mvar\u001b[0m\u001b[1;33m)\u001b[0m\u001b[1;33m\u001b[0m\u001b[1;33m\u001b[0m\u001b[0m\n\u001b[1;32m--> 142\u001b[1;33m                     \u001b[1;32mraise\u001b[0m \u001b[0mValueError\u001b[0m\u001b[1;33m(\u001b[0m\u001b[0merr\u001b[0m\u001b[1;33m)\u001b[0m\u001b[1;33m\u001b[0m\u001b[1;33m\u001b[0m\u001b[0m\n\u001b[0m\u001b[0;32m    143\u001b[0m \u001b[1;33m\u001b[0m\u001b[0m\n\u001b[0;32m    144\u001b[0m             \u001b[1;31m# Extract variable names\u001b[0m\u001b[1;33m\u001b[0m\u001b[1;33m\u001b[0m\u001b[1;33m\u001b[0m\u001b[0m\n",
      "\u001b[1;31mValueError\u001b[0m: Could not interpret input 'Q10'"
     ]
    }
   ],
   "source": [
    "sns.scatterplot(df, y=\"Q10\")"
   ]
  }
 ],
 "metadata": {
  "kernelspec": {
   "display_name": "Python 3",
   "language": "python",
   "name": "python3"
  },
  "language_info": {
   "codemirror_mode": {
    "name": "ipython",
    "version": 3
   },
   "file_extension": ".py",
   "mimetype": "text/x-python",
   "name": "python",
   "nbconvert_exporter": "python",
   "pygments_lexer": "ipython3",
   "version": "3.7.4"
  }
 },
 "nbformat": 4,
 "nbformat_minor": 2
}
