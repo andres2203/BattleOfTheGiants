{
 "cells": [
  {
   "cell_type": "markdown",
   "metadata": {},
   "source": [
    "# Import Libraries"
   ]
  },
  {
   "cell_type": "code",
   "execution_count": 177,
   "metadata": {},
   "outputs": [],
   "source": [
    "import pandas as pd, numpy as np\n",
    "import numpy as np\n",
    "import seaborn as sns\n",
    "import matplotlib.pyplot as plt\n",
    "\n",
    "import plotly_express as px\n",
    "\n",
    "sns.set_style(\"whitegrid\") # set some seaborn styles\n",
    "#sns.set_style(\"ticks\")\n",
    "\n",
    "pd.set_option(\"display.max_rows\", 500)\n",
    "pd.set_option(\"display.max_columns\", 300)\n",
    "pd.set_option(\"display.max_colwidth\", 500)"
   ]
  },
  {
   "cell_type": "markdown",
   "metadata": {},
   "source": [
    "# Import historical data"
   ]
  },
  {
   "cell_type": "code",
   "execution_count": 178,
   "metadata": {},
   "outputs": [],
   "source": [
    "#import 2018\n",
    "df_raw_2018 = pd.read_csv(\"../data_raw/multipleChoiceResponses_2018.csv\", low_memory=False)"
   ]
  },
  {
   "cell_type": "code",
   "execution_count": 179,
   "metadata": {
    "scrolled": false
   },
   "outputs": [],
   "source": [
    "# drop duplicates\n",
    "df_raw_2018 = df_raw_2018.drop_duplicates()\n",
    "\n",
    "# rename cols\n",
    "rename_2018 = {\"Q2\" : \"age\",\n",
    "                \"Q1\" : \"gender\",\n",
    "                \"Q3\" : \"country\",\n",
    "                \"Q4\" : \"degree\",\n",
    "                \"Q8\" : \"experience\",\n",
    "                \"Q9\" : \"salary\",\n",
    "#               company size\n",
    "                }\n",
    "#select columns\n",
    "df_2018 = df_raw_2018[list(rename_2018.keys())]\n",
    "#rename\n",
    "df_2018 = df_2018.rename(columns=rename_2018)\n",
    "#select countries\n",
    "df_2018 = df_2018[(df_2018[\"country\"] == \"India\") | (df_2018[\"country\"] == \"United States of America\")]"
   ]
  },
  {
   "cell_type": "code",
   "execution_count": 180,
   "metadata": {},
   "outputs": [],
   "source": [
    "# Extracting programming languages for 2018\n",
    "df_2018_language = df_raw_2018[(df_raw_2018[\"Q3\"] == \"India\") | (df_raw_2018[\"Q3\"] == \"United States of America\")].loc[:,df_raw_2018.columns.str.contains(\"Q16\")]"
   ]
  },
  {
   "cell_type": "code",
   "execution_count": 181,
   "metadata": {},
   "outputs": [],
   "source": [
    "#import 2017\n",
    "df_raw_2017 = pd.read_csv(\"../data_raw/multipleChoiceResponses_2017.csv\", engine='python')"
   ]
  },
  {
   "cell_type": "code",
   "execution_count": 182,
   "metadata": {},
   "outputs": [],
   "source": [
    "#drop duplicates\n",
    "df_raw_2017 = df_raw_2017.drop_duplicates()\n",
    "# rename cols\n",
    "rename_2017 = {\"Age\" : \"age\",\n",
    "                \"GenderSelect\" : \"gender\",\n",
    "                \"Country\" : \"country\",\n",
    "                \"FormalEducation\" : \"degree\",\n",
    "                \"EmployerSize\" : \"company size\",\n",
    "                \"LearningDataScienceTime\" : \"experience\",\n",
    "                \"CompensationAmount\" : \"salary\",\n",
    "                \"CompensationCurrency\" : \"currency\",\n",
    "                \"ParentsEducation\" : \"Parents Education\",\n",
    "                \"LanguageRecommendationSelect\" : \"LanguageRecommendation\",\n",
    "                }\n",
    "#select columns\n",
    "df_2017 = df_raw_2017[list(rename_2017.keys())]\n",
    "#rename columns\n",
    "df_2017 = df_2017.rename(columns=rename_2017)\n",
    "#select countries\n",
    "df_2017 = df_2017[(df_2017[\"country\"] == \"India\") | (df_2017[\"country\"] == \"United States\")]"
   ]
  },
  {
   "cell_type": "code",
   "execution_count": 183,
   "metadata": {},
   "outputs": [],
   "source": [
    "#extract programming language for 2017\n",
    "df_2017_language = df_raw_2017[(df_raw_2017[\"Country\"] == \"India\") | (df_raw_2017[\"Country\"] == \"United States\")][\"WorkToolsSelect\"].to_frame()"
   ]
  },
  {
   "cell_type": "markdown",
   "metadata": {},
   "source": [
    "# from previus notebook"
   ]
  },
  {
   "cell_type": "code",
   "execution_count": null,
   "metadata": {},
   "outputs": [],
   "source": []
  }
 ],
 "metadata": {
  "kernelspec": {
   "display_name": "Python 3",
   "language": "python",
   "name": "python3"
  },
  "language_info": {
   "codemirror_mode": {
    "name": "ipython",
    "version": 3
   },
   "file_extension": ".py",
   "mimetype": "text/x-python",
   "name": "python",
   "nbconvert_exporter": "python",
   "pygments_lexer": "ipython3",
   "version": "3.7.4"
  }
 },
 "nbformat": 4,
 "nbformat_minor": 2
}
