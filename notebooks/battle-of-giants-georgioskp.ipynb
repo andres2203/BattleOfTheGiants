{
 "cells": [
  {
   "cell_type": "markdown",
   "metadata": {},
   "source": [
    "# Import Libraries"
   ]
  },
  {
   "cell_type": "code",
   "execution_count": 1,
   "metadata": {},
   "outputs": [],
   "source": [
    "import pandas as pd, numpy as np\n",
    "import numpy as np\n",
    "import seaborn as sns\n",
    "import matplotlib.pyplot as plt\n",
    "\n",
    "import plotly_express as px\n",
    "\n",
    "sns.set_style(\"whitegrid\") # set some seaborn styles\n",
    "#sns.set_style(\"ticks\")\n",
    "\n",
    "pd.set_option(\"display.max_rows\", 500)\n",
    "pd.set_option(\"display.max_columns\", 300)\n",
    "pd.set_option(\"display.max_colwidth\", 500)"
   ]
  },
  {
   "cell_type": "markdown",
   "metadata": {},
   "source": [
    "# Import Data"
   ]
  },
  {
   "cell_type": "code",
   "execution_count": 2,
   "metadata": {
    "scrolled": false
   },
   "outputs": [],
   "source": [
    "df_raw = pd.read_csv(\"../data_raw/multiple_choice_responses_2019.csv\", low_memory=False)"
   ]
  },
  {
   "cell_type": "markdown",
   "metadata": {},
   "source": [
    "# 1. Review / cleaning "
   ]
  },
  {
   "cell_type": "code",
   "execution_count": 3,
   "metadata": {
    "scrolled": true
   },
   "outputs": [
    {
     "data": {
      "text/plain": [
       "India                                                   4786\n",
       "United States of America                                3085\n",
       "Other                                                   1054\n",
       "Brazil                                                   728\n",
       "Japan                                                    673\n",
       "Russia                                                   626\n",
       "China                                                    574\n",
       "Germany                                                  531\n",
       "United Kingdom of Great Britain and Northern Ireland     482\n",
       "Canada                                                   450\n",
       "Spain                                                    399\n",
       "Nigeria                                                  395\n",
       "France                                                   387\n",
       "Taiwan                                                   301\n",
       "Turkey                                                   288\n",
       "Italy                                                    271\n",
       "Australia                                                269\n",
       "Poland                                                   212\n",
       "Pakistan                                                 210\n",
       "Mexico                                                   195\n",
       "Ukraine                                                  191\n",
       "South Korea                                              182\n",
       "Colombia                                                 168\n",
       "Indonesia                                                167\n",
       "Netherlands                                              161\n",
       "Singapore                                                156\n",
       "Bangladesh                                               136\n",
       "Viet Nam                                                 128\n",
       "Morocco                                                  123\n",
       "Argentina                                                123\n",
       "Egypt                                                    122\n",
       "South Africa                                             120\n",
       "Kenya                                                    114\n",
       "Portugal                                                 114\n",
       "Greece                                                   108\n",
       "Israel                                                   104\n",
       "Switzerland                                               97\n",
       "Iran, Islamic Republic of...                              96\n",
       "Sweden                                                    92\n",
       "Chile                                                     91\n",
       "Ireland                                                   89\n",
       "Malaysia                                                  80\n",
       "Peru                                                      74\n",
       "Republic of Korea                                         73\n",
       "Belgium                                                   70\n",
       "Tunisia                                                   68\n",
       "Belarus                                                   68\n",
       "Thailand                                                  67\n",
       "Philippines                                               65\n",
       "Hong Kong (S.A.R.)                                        64\n",
       "Algeria                                                   58\n",
       "Romania                                                   58\n",
       "Czech Republic                                            58\n",
       "Hungary                                                   56\n",
       "Denmark                                                   55\n",
       "Austria                                                   53\n",
       "Norway                                                    51\n",
       "New Zealand                                               51\n",
       "Saudi Arabia                                              50\n",
       "In which country do you currently reside?                  1\n",
       "Name: Q3, dtype: int64"
      ]
     },
     "execution_count": 3,
     "metadata": {},
     "output_type": "execute_result"
    }
   ],
   "source": [
    "df_raw[\"Q3\"].value_counts()"
   ]
  },
  {
   "cell_type": "code",
   "execution_count": 4,
   "metadata": {},
   "outputs": [
    {
     "data": {
      "text/plain": [
       "Time from Start to Finish (seconds)     0.000000\n",
       "Q1                                      0.000000\n",
       "Q2                                      0.000000\n",
       "Q2_OTHER_TEXT                           0.000000\n",
       "Q3                                      0.000000\n",
       "Q4                                      1.998174\n",
       "Q5                                      3.093620\n",
       "Q5_OTHER_TEXT                           0.000000\n",
       "Q6                                     28.983670\n",
       "Q7                                     30.905771\n",
       "Q8                                     32.914089\n",
       "Q9_Part_1                              69.104372\n",
       "Q9_Part_2                              81.909930\n",
       "Q9_Part_3                              74.733746\n",
       "Q9_Part_4                              83.015519\n",
       "Q9_Part_5                              81.204990\n",
       "Q9_Part_6                              88.031240\n",
       "Q9_Part_7                              97.301958\n",
       "Q9_Part_8                              98.732123\n",
       "Q9_OTHER_TEXT                           0.000000\n",
       "Q10                                    36.616290\n",
       "Q11                                    37.868952\n",
       "Q12_Part_1                             81.027488\n",
       "Q12_Part_2                             90.845928\n",
       "Q12_Part_3                             82.655442\n",
       "Q12_Part_4                             45.471143\n",
       "Q12_Part_5                             80.951415\n",
       "Q12_Part_6                             61.765899\n",
       "Q12_Part_7                             89.471549\n",
       "Q12_Part_8                             49.751496\n",
       "Q12_Part_9                             77.315144\n",
       "Q12_Part_10                            87.762451\n",
       "Q12_Part_11                            97.078811\n",
       "Q12_Part_12                            93.990263\n",
       "Q12_OTHER_TEXT                          0.000000\n",
       "Q13_Part_1                             85.018765\n",
       "Q13_Part_2                             55.948879\n",
       "Q13_Part_3                             84.019677\n",
       "Q13_Part_4                             80.505122\n",
       "Q13_Part_5                             96.226798\n",
       "Q13_Part_6                             74.033878\n",
       "Q13_Part_7                             92.286236\n",
       "Q13_Part_8                             75.631403\n",
       "Q13_Part_9                             93.488183\n",
       "Q13_Part_10                            77.284714\n",
       "Q13_Part_11                            92.433310\n",
       "Q13_Part_12                            90.501065\n",
       "Q13_OTHER_TEXT                          0.000000\n",
       "Q14                                    20.422964\n",
       "Q14_Part_1_TEXT                         0.000000\n",
       "Q14_Part_2_TEXT                         0.000000\n",
       "Q14_Part_3_TEXT                         0.000000\n",
       "Q14_Part_4_TEXT                         0.000000\n",
       "Q14_Part_5_TEXT                         0.000000\n",
       "Q14_OTHER_TEXT                          0.000000\n",
       "Q15                                    20.742469\n",
       "Q16_Part_1                             45.202353\n",
       "Q16_Part_2                             77.401359\n",
       "Q16_Part_3                             78.572878\n",
       "Q16_Part_4                             92.453596\n",
       "Q16_Part_5                             91.028502\n",
       "Q16_Part_6                             77.000710\n",
       "Q16_Part_7                             84.349325\n",
       "Q16_Part_8                             90.957501\n",
       "Q16_Part_9                             83.355310\n",
       "Q16_Part_10                            86.530074\n",
       "Q16_Part_11                            98.787910\n",
       "Q16_Part_12                            96.490516\n",
       "Q16_OTHER_TEXT                          0.000000\n",
       "Q17_Part_1                             75.423471\n",
       "Q17_Part_2                             76.914494\n",
       "Q17_Part_3                             95.658789\n",
       "Q17_Part_4                             94.309768\n",
       "Q17_Part_5                             99.274774\n",
       "Q17_Part_6                             99.482706\n",
       "Q17_Part_7                             91.469723\n",
       "Q17_Part_8                             96.602089\n",
       "Q17_Part_9                             99.609494\n",
       "Q17_Part_10                            96.155797\n",
       "Q17_Part_11                            73.739730\n",
       "Q17_Part_12                            97.662035\n",
       "Q17_OTHER_TEXT                          0.000000\n",
       "Q18_Part_1                             34.871691\n",
       "Q18_Part_2                             76.726849\n",
       "Q18_Part_3                             66.867836\n",
       "Q18_Part_4                             91.515367\n",
       "Q18_Part_5                             88.553606\n",
       "Q18_Part_6                             88.497819\n",
       "Q18_Part_7                             88.969470\n",
       "Q18_Part_8                             98.022112\n",
       "Q18_Part_9                             89.664266\n",
       "Q18_Part_10                            92.306522\n",
       "Q18_Part_11                            99.573993\n",
       "Q18_Part_12                            94.172837\n",
       "Q18_OTHER_TEXT                          0.000000\n",
       "Q19                                    27.081854\n",
       "Q19_OTHER_TEXT                          0.000000\n",
       "Q20_Part_1                             78.785881\n",
       "Q20_Part_2                             46.662948\n",
       "Q20_Part_3                             99.147987\n",
       "Q20_Part_4                             93.685972\n",
       "Q20_Part_5                             94.527843\n",
       "Q20_Part_6                             83.679886\n",
       "Q20_Part_7                             94.705345\n",
       "Q20_Part_8                             64.976164\n",
       "Q20_Part_9                             96.728877\n",
       "Q20_Part_10                            97.205599\n",
       "Q20_Part_11                            93.706258\n",
       "Q20_Part_12                            97.636677\n",
       "Q20_OTHER_TEXT                          0.000000\n",
       "Q21_Part_1                             46.886094\n",
       "Q21_Part_2                             66.330257\n",
       "Q21_Part_3                             97.479460\n",
       "Q21_Part_4                             87.574805\n",
       "Q21_Part_5                             99.447206\n",
       "Q21_OTHER_TEXT                          0.000000\n",
       "Q22                                    27.964297\n",
       "Q23                                    28.070798\n",
       "Q24_Part_1                             48.148899\n",
       "Q24_Part_2                             56.937823\n",
       "Q24_Part_3                             71.903844\n",
       "Q24_Part_4                             81.103560\n",
       "Q24_Part_5                             95.603002\n",
       "Q24_Part_6                             83.142307\n",
       "Q24_Part_7                             72.355208\n",
       "Q24_Part_8                             95.040065\n",
       "Q24_Part_9                             82.807587\n",
       "Q24_Part_10                            95.395070\n",
       "Q24_Part_11                            93.980120\n",
       "Q24_Part_12                            97.859824\n",
       "Q24_OTHER_TEXT                          0.000000\n",
       "Q25_Part_1                             90.866214\n",
       "Q25_Part_2                             92.362309\n",
       "Q25_Part_3                             83.766102\n",
       "Q25_Part_4                             97.712750\n",
       "Q25_Part_5                             90.977787\n",
       "Q25_Part_6                             94.020692\n",
       "Q25_Part_7                             60.325591\n",
       "Q25_Part_8                             98.833553\n",
       "Q25_OTHER_TEXT                          0.000000\n",
       "Q26_Part_1                             88.802110\n",
       "Q26_Part_2                             89.542550\n",
       "Q26_Part_3                             90.501065\n",
       "Q26_Part_4                             83.832032\n",
       "Q26_Part_5                             94.512628\n",
       "Q26_Part_6                             93.893904\n",
       "Q26_Part_7                             99.736282\n",
       "Q26_OTHER_TEXT                          0.000000\n",
       "Q27_Part_1                             89.268689\n",
       "Q27_Part_2                             93.057105\n",
       "Q27_Part_3                             97.144741\n",
       "Q27_Part_4                             94.766203\n",
       "Q27_Part_5                             94.786490\n",
       "Q27_Part_6                             99.746425\n",
       "Q27_OTHER_TEXT                          0.000000\n",
       "Q28_Part_1                             52.373466\n",
       "Q28_Part_2                             70.468607\n",
       "Q28_Part_3                             70.803327\n",
       "Q28_Part_4                             77.051425\n",
       "Q28_Part_5                             78.476519\n",
       "Q28_Part_6                             82.690942\n",
       "Q28_Part_7                             94.218481\n",
       "Q28_Part_8                             89.010042\n",
       "Q28_Part_9                             95.379856\n",
       "Q28_Part_10                            95.182067\n",
       "Q28_Part_11                            91.271934\n",
       "Q28_Part_12                            98.260473\n",
       "Q28_OTHER_TEXT                          0.000000\n",
       "Q29_Part_1                             89.172330\n",
       "Q29_Part_2                             86.007709\n",
       "Q29_Part_3                             93.117963\n",
       "Q29_Part_4                             98.103256\n",
       "Q29_Part_5                             99.437063\n",
       "Q29_Part_6                             99.411705\n",
       "Q29_Part_7                             99.173344\n",
       "Q29_Part_8                             99.538493\n",
       "Q29_Part_9                             99.127701\n",
       "Q29_Part_10                            99.599351\n",
       "Q29_Part_11                            88.690537\n",
       "Q29_Part_12                            99.132772\n",
       "Q29_OTHER_TEXT                          0.000000\n",
       "Q30_Part_1                             90.815499\n",
       "Q30_Part_2                             94.223552\n",
       "Q30_Part_3                             95.552287\n",
       "Q30_Part_4                             95.745005\n",
       "Q30_Part_5                             96.967238\n",
       "Q30_Part_6                             96.434730\n",
       "Q30_Part_7                             98.417689\n",
       "Q30_Part_8                             97.327315\n",
       "Q30_Part_9                             98.554620\n",
       "Q30_Part_10                            97.991683\n",
       "Q30_Part_11                            83.994320\n",
       "Q30_Part_12                            98.782838\n",
       "Q30_OTHER_TEXT                          0.000000\n",
       "Q31_Part_1                             95.136424\n",
       "Q31_Part_2                             97.144741\n",
       "Q31_Part_3                             96.931737\n",
       "Q31_Part_4                             97.819251\n",
       "Q31_Part_5                             98.361903\n",
       "Q31_Part_6                             97.834466\n",
       "Q31_Part_7                             97.332387\n",
       "Q31_Part_8                             98.123542\n",
       "Q31_Part_9                             98.569835\n",
       "Q31_Part_10                            97.976468\n",
       "Q31_Part_11                            79.034385\n",
       "Q31_Part_12                            98.645907\n",
       "Q31_OTHER_TEXT                          0.000000\n",
       "Q32_Part_1                             97.712750\n",
       "Q32_Part_2                             97.875038\n",
       "Q32_Part_3                             97.048382\n",
       "Q32_Part_4                             97.023025\n",
       "Q32_Part_5                             98.108327\n",
       "Q32_Part_6                             97.773608\n",
       "Q32_Part_7                             97.966325\n",
       "Q32_Part_8                             98.650979\n",
       "Q32_Part_9                             98.397403\n",
       "Q32_Part_10                            97.109240\n",
       "Q32_Part_11                            78.121513\n",
       "Q32_Part_12                            98.853839\n",
       "Q32_OTHER_TEXT                          0.000000\n",
       "Q33_Part_1                             97.469317\n",
       "Q33_Part_2                             98.590121\n",
       "Q33_Part_3                             99.026270\n",
       "Q33_Part_4                             99.127701\n",
       "Q33_Part_5                             99.102343\n",
       "Q33_Part_6                             97.636677\n",
       "Q33_Part_7                             96.160868\n",
       "Q33_Part_8                             98.579978\n",
       "Q33_Part_9                             99.852926\n",
       "Q33_Part_10                            99.320418\n",
       "Q33_Part_11                            73.749873\n",
       "Q33_Part_12                            99.325489\n",
       "Q33_OTHER_TEXT                          0.000000\n",
       "Q34_Part_1                             84.161680\n",
       "Q34_Part_2                             89.040471\n",
       "Q34_Part_3                             92.250735\n",
       "Q34_Part_4                             90.602495\n",
       "Q34_Part_5                             93.949691\n",
       "Q34_Part_6                             97.220813\n",
       "Q34_Part_7                             97.012882\n",
       "Q34_Part_8                             97.890253\n",
       "Q34_Part_9                             97.565676\n",
       "Q34_Part_10                            97.327315\n",
       "Q34_Part_11                            93.680901\n",
       "Q34_Part_12                            98.539406\n",
       "Q34_OTHER_TEXT                          0.000000\n",
       "dtype: float64"
      ]
     },
     "execution_count": 4,
     "metadata": {},
     "output_type": "execute_result"
    }
   ],
   "source": [
    "# get overview, search isnull. \n",
    "100 * df_raw.isnull().sum() / len(df_raw)"
   ]
  },
  {
   "cell_type": "markdown",
   "metadata": {},
   "source": [
    "As most cols are dummy vars we dont drop cols with hight perc isnull"
   ]
  },
  {
   "cell_type": "code",
   "execution_count": 5,
   "metadata": {},
   "outputs": [],
   "source": [
    "df = df_raw.copy() "
   ]
  },
  {
   "cell_type": "code",
   "execution_count": 6,
   "metadata": {},
   "outputs": [],
   "source": [
    "# extract question\n",
    "questions = df.iloc[0,:]"
   ]
  },
  {
   "cell_type": "code",
   "execution_count": 7,
   "metadata": {},
   "outputs": [],
   "source": [
    "# drop questions\n",
    "df = df.drop(df.index[0])"
   ]
  },
  {
   "cell_type": "code",
   "execution_count": 8,
   "metadata": {},
   "outputs": [],
   "source": [
    "# check and drop duplicates\n",
    "df = df.drop_duplicates()"
   ]
  },
  {
   "cell_type": "code",
   "execution_count": 9,
   "metadata": {},
   "outputs": [],
   "source": [
    "# drop columns\n",
    "## possible to drop later: Q16, Q17, Q20, Q30, Q31, Q32\n",
    "\n",
    "drop_all = [\"Q26\", \"Time from Start to Finish\", \"Q11\", \"Q19\"]\n",
    "#df[df.columns.drop(list(df.filter(regex=\"Q26\", \"OTHER\", \"Time from Start to Finish (seconds)\", \"Q11\", \"Q19\")))]\n",
    "\n",
    "for col in drop_all:\n",
    "    df = df.loc[:,~df.columns.str.contains(col)]\n",
    "    "
   ]
  },
  {
   "cell_type": "code",
   "execution_count": 10,
   "metadata": {},
   "outputs": [],
   "source": [
    "# rename cols\n",
    "rename = {\"Q1\" : \"age\",\n",
    "          \"Q2\" : \"gender\",\n",
    "          \"Q3\" : \"country\",\n",
    "          \"Q4\" : \"degree\",\n",
    "          \"Q5\" : \"position\",\n",
    "          \"Q6\" : \"company_size\",\n",
    "          \"Q10\": \"salary\"\n",
    "          }\n",
    "df = df.rename(columns=rename)"
   ]
  },
  {
   "cell_type": "markdown",
   "metadata": {},
   "source": [
    "# 2. Extract subsets\n",
    "for further steps we extract the relevant countries"
   ]
  },
  {
   "cell_type": "code",
   "execution_count": 11,
   "metadata": {},
   "outputs": [],
   "source": [
    "india = df[df[\"country\"] == \"India\"]"
   ]
  },
  {
   "cell_type": "code",
   "execution_count": 12,
   "metadata": {},
   "outputs": [],
   "source": [
    "usa = df[df[\"country\"] == \"United States of America\"]"
   ]
  },
  {
   "cell_type": "markdown",
   "metadata": {},
   "source": [
    "## 2.1 some plotting"
   ]
  },
  {
   "cell_type": "code",
   "execution_count": 13,
   "metadata": {},
   "outputs": [],
   "source": [
    "df_tmp = df.copy()\n",
    "df_tmp[\"country\"] = np.where(df[\"country\"] != np.nan, \"global\", df[\"country\"])"
   ]
  },
  {
   "cell_type": "code",
   "execution_count": 14,
   "metadata": {},
   "outputs": [],
   "source": [
    "def perc(df, col):\n",
    "    \n",
    "    return round(100 * df[col].value_counts(normalize=True),2).to_frame()"
   ]
  },
  {
   "cell_type": "code",
   "execution_count": 15,
   "metadata": {
    "scrolled": true
   },
   "outputs": [],
   "source": [
    "# global_gender_dist = round(100 * df[\"gender\"].value_counts(normalize=True),2).to_frame().rename(columns={\"gender\" : \"global\"})\n",
    "# india_gender_dist = round(100 * india[\"gender\"].value_counts(normalize=True),2).to_frame().rename\n",
    "# usa_gender_dist = round(100 * usa[\"gender\"].value_counts(normalize=True),2).to_frame()\n",
    "# global_gender_dist"
   ]
  },
  {
   "cell_type": "code",
   "execution_count": 16,
   "metadata": {},
   "outputs": [
    {
     "data": {
      "text/html": [
       "<div>\n",
       "<style scoped>\n",
       "    .dataframe tbody tr th:only-of-type {\n",
       "        vertical-align: middle;\n",
       "    }\n",
       "\n",
       "    .dataframe tbody tr th {\n",
       "        vertical-align: top;\n",
       "    }\n",
       "\n",
       "    .dataframe thead th {\n",
       "        text-align: right;\n",
       "    }\n",
       "</style>\n",
       "<table border=\"1\" class=\"dataframe\">\n",
       "  <thead>\n",
       "    <tr style=\"text-align: right;\">\n",
       "      <th></th>\n",
       "      <th>global</th>\n",
       "      <th>india</th>\n",
       "      <th>usa</th>\n",
       "    </tr>\n",
       "  </thead>\n",
       "  <tbody>\n",
       "    <tr>\n",
       "      <th>Male</th>\n",
       "      <td>81.84</td>\n",
       "      <td>82.69</td>\n",
       "      <td>77.37</td>\n",
       "    </tr>\n",
       "    <tr>\n",
       "      <th>Female</th>\n",
       "      <td>16.29</td>\n",
       "      <td>16.12</td>\n",
       "      <td>20.23</td>\n",
       "    </tr>\n",
       "    <tr>\n",
       "      <th>Prefer not to say</th>\n",
       "      <td>1.61</td>\n",
       "      <td>1.13</td>\n",
       "      <td>1.98</td>\n",
       "    </tr>\n",
       "    <tr>\n",
       "      <th>Prefer to self-describe</th>\n",
       "      <td>0.25</td>\n",
       "      <td>0.06</td>\n",
       "      <td>0.42</td>\n",
       "    </tr>\n",
       "  </tbody>\n",
       "</table>\n",
       "</div>"
      ],
      "text/plain": [
       "                         global  india    usa\n",
       "Male                      81.84  82.69  77.37\n",
       "Female                    16.29  16.12  20.23\n",
       "Prefer not to say          1.61   1.13   1.98\n",
       "Prefer to self-describe    0.25   0.06   0.42"
      ]
     },
     "execution_count": 16,
     "metadata": {},
     "output_type": "execute_result"
    }
   ],
   "source": [
    "global_gender_dist = perc(df, \"gender\").rename(columns={\"gender\" : \"global\"})\n",
    "india_gender_dist = perc(india, \"gender\").rename(columns={\"gender\" : \"india\"})\n",
    "usa_gender_dist = perc(usa, \"gender\").rename(columns={\"gender\" : \"usa\"})\n",
    "\n",
    "df_gender = global_gender_dist.merge(right=india_gender_dist, how=\"inner\", left_index=True, right_index=True)\n",
    "df_gender= df_gender.merge(right=usa_gender_dist, how=\"inner\", left_index=True, right_index=True)\n",
    "df_gender"
   ]
  },
  {
   "cell_type": "markdown",
   "metadata": {},
   "source": [
    "### 2.1.0 Fig Standards"
   ]
  },
  {
   "cell_type": "code",
   "execution_count": 17,
   "metadata": {},
   "outputs": [],
   "source": [
    "figure_size = (12,6)"
   ]
  },
  {
   "cell_type": "markdown",
   "metadata": {},
   "source": [
    "### 2.1.1 Gender"
   ]
  },
  {
   "cell_type": "code",
   "execution_count": 18,
   "metadata": {},
   "outputs": [
    {
     "data": {
      "image/png": "[encoded data removed]",
      "text/plain": [
       "<Figure size 864x432 with 1 Axes>"
      ]
     },
     "metadata": {
      "needs_background": "light"
     },
     "output_type": "display_data"
    }
   ],
   "source": [
    "# fig , ax = plt.subplots(figsize=figure_size)\n",
    "df_gender.plot(kind=\"bar\", figsize=figure_size, rot=45);"
   ]
  },
  {
   "cell_type": "markdown",
   "metadata": {},
   "source": [
    "### 2.1.2 Age"
   ]
  },
  {
   "cell_type": "code",
   "execution_count": 19,
   "metadata": {},
   "outputs": [
    {
     "data": {
      "text/html": [
       "<div>\n",
       "<style scoped>\n",
       "    .dataframe tbody tr th:only-of-type {\n",
       "        vertical-align: middle;\n",
       "    }\n",
       "\n",
       "    .dataframe tbody tr th {\n",
       "        vertical-align: top;\n",
       "    }\n",
       "\n",
       "    .dataframe thead th {\n",
       "        text-align: right;\n",
       "    }\n",
       "</style>\n",
       "<table border=\"1\" class=\"dataframe\">\n",
       "  <thead>\n",
       "    <tr style=\"text-align: right;\">\n",
       "      <th></th>\n",
       "      <th>global</th>\n",
       "      <th>india</th>\n",
       "      <th>usa</th>\n",
       "    </tr>\n",
       "    <tr>\n",
       "      <th>age</th>\n",
       "      <th></th>\n",
       "      <th></th>\n",
       "      <th></th>\n",
       "    </tr>\n",
       "  </thead>\n",
       "  <tbody>\n",
       "    <tr>\n",
       "      <th>18-21</th>\n",
       "      <td>12.68</td>\n",
       "      <td>29.33</td>\n",
       "      <td>5.12</td>\n",
       "    </tr>\n",
       "    <tr>\n",
       "      <th>22-24</th>\n",
       "      <td>18.31</td>\n",
       "      <td>26.34</td>\n",
       "      <td>10.47</td>\n",
       "    </tr>\n",
       "    <tr>\n",
       "      <th>25-29</th>\n",
       "      <td>22.61</td>\n",
       "      <td>20.78</td>\n",
       "      <td>20.65</td>\n",
       "    </tr>\n",
       "    <tr>\n",
       "      <th>30-34</th>\n",
       "      <td>15.83</td>\n",
       "      <td>11.14</td>\n",
       "      <td>18.06</td>\n",
       "    </tr>\n",
       "    <tr>\n",
       "      <th>35-39</th>\n",
       "      <td>10.59</td>\n",
       "      <td>5.67</td>\n",
       "      <td>13.13</td>\n",
       "    </tr>\n",
       "    <tr>\n",
       "      <th>40-44</th>\n",
       "      <td>7.30</td>\n",
       "      <td>3.81</td>\n",
       "      <td>8.88</td>\n",
       "    </tr>\n",
       "    <tr>\n",
       "      <th>45-49</th>\n",
       "      <td>4.81</td>\n",
       "      <td>1.53</td>\n",
       "      <td>7.56</td>\n",
       "    </tr>\n",
       "    <tr>\n",
       "      <th>50-54</th>\n",
       "      <td>3.51</td>\n",
       "      <td>0.79</td>\n",
       "      <td>5.58</td>\n",
       "    </tr>\n",
       "    <tr>\n",
       "      <th>55-59</th>\n",
       "      <td>2.14</td>\n",
       "      <td>0.27</td>\n",
       "      <td>4.67</td>\n",
       "    </tr>\n",
       "    <tr>\n",
       "      <th>60-69</th>\n",
       "      <td>1.71</td>\n",
       "      <td>0.27</td>\n",
       "      <td>4.57</td>\n",
       "    </tr>\n",
       "    <tr>\n",
       "      <th>70+</th>\n",
       "      <td>0.51</td>\n",
       "      <td>0.06</td>\n",
       "      <td>1.30</td>\n",
       "    </tr>\n",
       "  </tbody>\n",
       "</table>\n",
       "</div>"
      ],
      "text/plain": [
       "       global  india    usa\n",
       "age                        \n",
       "18-21   12.68  29.33   5.12\n",
       "22-24   18.31  26.34  10.47\n",
       "25-29   22.61  20.78  20.65\n",
       "30-34   15.83  11.14  18.06\n",
       "35-39   10.59   5.67  13.13\n",
       "40-44    7.30   3.81   8.88\n",
       "45-49    4.81   1.53   7.56\n",
       "50-54    3.51   0.79   5.58\n",
       "55-59    2.14   0.27   4.67\n",
       "60-69    1.71   0.27   4.57\n",
       "70+      0.51   0.06   1.30"
      ]
     },
     "execution_count": 19,
     "metadata": {},
     "output_type": "execute_result"
    }
   ],
   "source": [
    "global_age_dist = perc(df, \"age\").rename(columns={\"age\" : \"global\"})\n",
    "india_age_dist = perc(india, \"age\").rename(columns={\"age\" : \"india\"})\n",
    "usa_age_dist = perc(usa, \"age\").rename(columns={\"age\" : \"usa\"})\n",
    "\n",
    "df_age = global_age_dist.merge(right=india_age_dist, how=\"inner\", left_index=True, right_index=True)\n",
    "df_age = df_age.merge(right=usa_age_dist, how=\"inner\", left_index=True, right_index=True)\n",
    "df_age = df_age.reset_index().rename(columns={\"index\" : \"age\"}).sort_values(\"age\").set_index(\"age\")\n",
    "df_age"
   ]
  },
  {
   "cell_type": "code",
   "execution_count": 20,
   "metadata": {},
   "outputs": [
    {
     "data": {
      "image/png": "[encoded data removed]",
      "text/plain": [
       "<Figure size 864x432 with 1 Axes>"
      ]
     },
     "metadata": {
      "needs_background": "light"
     },
     "output_type": "display_data"
    }
   ],
   "source": [
    "df_age.plot(kind=\"bar\", figsize=figure_size, rot=45);"
   ]
  },
  {
   "cell_type": "markdown",
   "metadata": {},
   "source": [
    "### 2.1.3 Degree"
   ]
  },
  {
   "cell_type": "code",
   "execution_count": 21,
   "metadata": {},
   "outputs": [
    {
     "data": {
      "text/html": [
       "<div>\n",
       "<style scoped>\n",
       "    .dataframe tbody tr th:only-of-type {\n",
       "        vertical-align: middle;\n",
       "    }\n",
       "\n",
       "    .dataframe tbody tr th {\n",
       "        vertical-align: top;\n",
       "    }\n",
       "\n",
       "    .dataframe thead th {\n",
       "        text-align: right;\n",
       "    }\n",
       "</style>\n",
       "<table border=\"1\" class=\"dataframe\">\n",
       "  <thead>\n",
       "    <tr style=\"text-align: right;\">\n",
       "      <th></th>\n",
       "      <th>global</th>\n",
       "      <th>india</th>\n",
       "      <th>usa</th>\n",
       "    </tr>\n",
       "  </thead>\n",
       "  <tbody>\n",
       "    <tr>\n",
       "      <th>Master’s degree</th>\n",
       "      <td>44.24</td>\n",
       "      <td>35.74</td>\n",
       "      <td>50.00</td>\n",
       "    </tr>\n",
       "    <tr>\n",
       "      <th>Bachelor’s degree</th>\n",
       "      <td>31.01</td>\n",
       "      <td>49.29</td>\n",
       "      <td>23.09</td>\n",
       "    </tr>\n",
       "    <tr>\n",
       "      <th>Doctoral degree</th>\n",
       "      <td>14.32</td>\n",
       "      <td>5.33</td>\n",
       "      <td>20.76</td>\n",
       "    </tr>\n",
       "    <tr>\n",
       "      <th>Some college/university study without earning a bachelor’s degree</th>\n",
       "      <td>4.33</td>\n",
       "      <td>2.72</td>\n",
       "      <td>4.11</td>\n",
       "    </tr>\n",
       "    <tr>\n",
       "      <th>Professional degree</th>\n",
       "      <td>3.16</td>\n",
       "      <td>4.33</td>\n",
       "      <td>1.02</td>\n",
       "    </tr>\n",
       "    <tr>\n",
       "      <th>I prefer not to answer</th>\n",
       "      <td>1.72</td>\n",
       "      <td>2.04</td>\n",
       "      <td>0.59</td>\n",
       "    </tr>\n",
       "    <tr>\n",
       "      <th>No formal education past high school</th>\n",
       "      <td>1.21</td>\n",
       "      <td>0.55</td>\n",
       "      <td>0.43</td>\n",
       "    </tr>\n",
       "  </tbody>\n",
       "</table>\n",
       "</div>"
      ],
      "text/plain": [
       "                                                                   global  \\\n",
       "Master’s degree                                                     44.24   \n",
       "Bachelor’s degree                                                   31.01   \n",
       "Doctoral degree                                                     14.32   \n",
       "Some college/university study without earning a bachelor’s degree    4.33   \n",
       "Professional degree                                                  3.16   \n",
       "I prefer not to answer                                               1.72   \n",
       "No formal education past high school                                 1.21   \n",
       "\n",
       "                                                                   india  \\\n",
       "Master’s degree                                                    35.74   \n",
       "Bachelor’s degree                                                  49.29   \n",
       "Doctoral degree                                                     5.33   \n",
       "Some college/university study without earning a bachelor’s degree   2.72   \n",
       "Professional degree                                                 4.33   \n",
       "I prefer not to answer                                              2.04   \n",
       "No formal education past high school                                0.55   \n",
       "\n",
       "                                                                     usa  \n",
       "Master’s degree                                                    50.00  \n",
       "Bachelor’s degree                                                  23.09  \n",
       "Doctoral degree                                                    20.76  \n",
       "Some college/university study without earning a bachelor’s degree   4.11  \n",
       "Professional degree                                                 1.02  \n",
       "I prefer not to answer                                              0.59  \n",
       "No formal education past high school                                0.43  "
      ]
     },
     "execution_count": 21,
     "metadata": {},
     "output_type": "execute_result"
    }
   ],
   "source": [
    "global_degree_dist = perc(df, \"degree\").rename(columns={\"degree\" : \"global\"})\n",
    "india_degree_dist = perc(india, \"degree\").rename(columns={\"degree\" : \"india\"})\n",
    "usa_degree_dist = perc(usa, \"degree\").rename(columns={\"degree\" : \"usa\"})\n",
    "\n",
    "df_degree = global_degree_dist.merge(right=india_degree_dist, how=\"inner\", left_index=True, right_index=True)\n",
    "df_degree = df_degree.merge(right=usa_degree_dist, how=\"inner\", left_index=True, right_index=True)\n",
    "df_degree"
   ]
  },
  {
   "cell_type": "code",
   "execution_count": 22,
   "metadata": {
    "scrolled": false
   },
   "outputs": [
    {
     "data": {
      "image/png": "[encoded data removed]",
      "text/plain": [
       "<Figure size 864x432 with 1 Axes>"
      ]
     },
     "metadata": {
      "needs_background": "light"
     },
     "output_type": "display_data"
    }
   ],
   "source": [
    "df_degree.plot(kind=\"bar\", figsize=figure_size);"
   ]
  },
  {
   "cell_type": "markdown",
   "metadata": {},
   "source": [
    "### 2.1.4 Position"
   ]
  },
  {
   "cell_type": "code",
   "execution_count": 23,
   "metadata": {},
   "outputs": [
    {
     "data": {
      "text/html": [
       "<div>\n",
       "<style scoped>\n",
       "    .dataframe tbody tr th:only-of-type {\n",
       "        vertical-align: middle;\n",
       "    }\n",
       "\n",
       "    .dataframe tbody tr th {\n",
       "        vertical-align: top;\n",
       "    }\n",
       "\n",
       "    .dataframe thead th {\n",
       "        text-align: right;\n",
       "    }\n",
       "</style>\n",
       "<table border=\"1\" class=\"dataframe\">\n",
       "  <thead>\n",
       "    <tr style=\"text-align: right;\">\n",
       "      <th></th>\n",
       "      <th>global</th>\n",
       "      <th>india</th>\n",
       "      <th>usa</th>\n",
       "    </tr>\n",
       "  </thead>\n",
       "  <tbody>\n",
       "    <tr>\n",
       "      <th>Data Scientist</th>\n",
       "      <td>21.38</td>\n",
       "      <td>16.40</td>\n",
       "      <td>25.93</td>\n",
       "    </tr>\n",
       "    <tr>\n",
       "      <th>Student</th>\n",
       "      <td>21.01</td>\n",
       "      <td>32.83</td>\n",
       "      <td>16.15</td>\n",
       "    </tr>\n",
       "    <tr>\n",
       "      <th>Software Engineer</th>\n",
       "      <td>14.16</td>\n",
       "      <td>15.44</td>\n",
       "      <td>11.54</td>\n",
       "    </tr>\n",
       "    <tr>\n",
       "      <th>Other</th>\n",
       "      <td>8.84</td>\n",
       "      <td>7.29</td>\n",
       "      <td>11.74</td>\n",
       "    </tr>\n",
       "    <tr>\n",
       "      <th>Data Analyst</th>\n",
       "      <td>8.36</td>\n",
       "      <td>7.50</td>\n",
       "      <td>9.65</td>\n",
       "    </tr>\n",
       "    <tr>\n",
       "      <th>Research Scientist</th>\n",
       "      <td>7.69</td>\n",
       "      <td>3.09</td>\n",
       "      <td>7.39</td>\n",
       "    </tr>\n",
       "    <tr>\n",
       "      <th>Not employed</th>\n",
       "      <td>4.93</td>\n",
       "      <td>6.07</td>\n",
       "      <td>3.61</td>\n",
       "    </tr>\n",
       "    <tr>\n",
       "      <th>Business Analyst</th>\n",
       "      <td>4.07</td>\n",
       "      <td>4.31</td>\n",
       "      <td>3.71</td>\n",
       "    </tr>\n",
       "    <tr>\n",
       "      <th>Product/Project Manager</th>\n",
       "      <td>3.78</td>\n",
       "      <td>3.13</td>\n",
       "      <td>4.41</td>\n",
       "    </tr>\n",
       "    <tr>\n",
       "      <th>Data Engineer</th>\n",
       "      <td>3.27</td>\n",
       "      <td>2.44</td>\n",
       "      <td>3.51</td>\n",
       "    </tr>\n",
       "    <tr>\n",
       "      <th>Statistician</th>\n",
       "      <td>1.69</td>\n",
       "      <td>0.81</td>\n",
       "      <td>1.53</td>\n",
       "    </tr>\n",
       "    <tr>\n",
       "      <th>DBA/Database Engineer</th>\n",
       "      <td>0.82</td>\n",
       "      <td>0.69</td>\n",
       "      <td>0.83</td>\n",
       "    </tr>\n",
       "  </tbody>\n",
       "</table>\n",
       "</div>"
      ],
      "text/plain": [
       "                         global  india    usa\n",
       "Data Scientist            21.38  16.40  25.93\n",
       "Student                   21.01  32.83  16.15\n",
       "Software Engineer         14.16  15.44  11.54\n",
       "Other                      8.84   7.29  11.74\n",
       "Data Analyst               8.36   7.50   9.65\n",
       "Research Scientist         7.69   3.09   7.39\n",
       "Not employed               4.93   6.07   3.61\n",
       "Business Analyst           4.07   4.31   3.71\n",
       "Product/Project Manager    3.78   3.13   4.41\n",
       "Data Engineer              3.27   2.44   3.51\n",
       "Statistician               1.69   0.81   1.53\n",
       "DBA/Database Engineer      0.82   0.69   0.83"
      ]
     },
     "execution_count": 23,
     "metadata": {},
     "output_type": "execute_result"
    }
   ],
   "source": [
    "global_position_dist = perc(df, \"position\").rename(columns={\"position\" : \"global\"})\n",
    "india_position_dist = perc(india, \"position\").rename(columns={\"position\" : \"india\"})\n",
    "usa_position_dist = perc(usa, \"position\").rename(columns={\"position\" : \"usa\"})\n",
    "\n",
    "df_position = global_position_dist.merge(right=india_position_dist, how=\"inner\", left_index=True, right_index=True)\n",
    "df_position = df_position.merge(right=usa_position_dist, how=\"inner\", left_index=True, right_index=True)\n",
    "df_position"
   ]
  },
  {
   "cell_type": "code",
   "execution_count": 24,
   "metadata": {
    "scrolled": false
   },
   "outputs": [
    {
     "data": {
      "image/png": "[encoded data removed]",
      "text/plain": [
       "<Figure size 864x432 with 1 Axes>"
      ]
     },
     "metadata": {
      "needs_background": "light"
     },
     "output_type": "display_data"
    }
   ],
   "source": [
    "df_position.plot(kind=\"bar\", figsize=figure_size);"
   ]
  },
  {
   "cell_type": "markdown",
   "metadata": {},
   "source": [
    "### 2.1.5 Company Size"
   ]
  },
  {
   "cell_type": "code",
   "execution_count": 25,
   "metadata": {},
   "outputs": [
    {
     "data": {
      "text/html": [
       "<div>\n",
       "<style scoped>\n",
       "    .dataframe tbody tr th:only-of-type {\n",
       "        vertical-align: middle;\n",
       "    }\n",
       "\n",
       "    .dataframe tbody tr th {\n",
       "        vertical-align: top;\n",
       "    }\n",
       "\n",
       "    .dataframe thead th {\n",
       "        text-align: right;\n",
       "    }\n",
       "</style>\n",
       "<table border=\"1\" class=\"dataframe\">\n",
       "  <thead>\n",
       "    <tr style=\"text-align: right;\">\n",
       "      <th></th>\n",
       "      <th>global</th>\n",
       "      <th>india</th>\n",
       "      <th>usa</th>\n",
       "    </tr>\n",
       "    <tr>\n",
       "      <th>company_size</th>\n",
       "      <th></th>\n",
       "      <th></th>\n",
       "      <th></th>\n",
       "    </tr>\n",
       "  </thead>\n",
       "  <tbody>\n",
       "    <tr>\n",
       "      <th>0-49 employees</th>\n",
       "      <td>28.75</td>\n",
       "      <td>26.27</td>\n",
       "      <td>20.43</td>\n",
       "    </tr>\n",
       "    <tr>\n",
       "      <th>50-249 employees</th>\n",
       "      <td>16.63</td>\n",
       "      <td>14.97</td>\n",
       "      <td>14.38</td>\n",
       "    </tr>\n",
       "    <tr>\n",
       "      <th>250-999 employees</th>\n",
       "      <td>13.19</td>\n",
       "      <td>11.37</td>\n",
       "      <td>11.03</td>\n",
       "    </tr>\n",
       "    <tr>\n",
       "      <th>1000-9,999 employees</th>\n",
       "      <td>18.86</td>\n",
       "      <td>13.90</td>\n",
       "      <td>22.61</td>\n",
       "    </tr>\n",
       "    <tr>\n",
       "      <th>&gt; 10,000 employees</th>\n",
       "      <td>22.57</td>\n",
       "      <td>33.48</td>\n",
       "      <td>31.55</td>\n",
       "    </tr>\n",
       "  </tbody>\n",
       "</table>\n",
       "</div>"
      ],
      "text/plain": [
       "                      global  india    usa\n",
       "company_size                              \n",
       "0-49 employees         28.75  26.27  20.43\n",
       "50-249 employees       16.63  14.97  14.38\n",
       "250-999 employees      13.19  11.37  11.03\n",
       "1000-9,999 employees   18.86  13.90  22.61\n",
       "> 10,000 employees     22.57  33.48  31.55"
      ]
     },
     "execution_count": 25,
     "metadata": {},
     "output_type": "execute_result"
    }
   ],
   "source": [
    "global_company_size_dist = perc(df, \"company_size\").rename(columns={\"company_size\" : \"global\"})\n",
    "india_company_size_dist = perc(india, \"company_size\").rename(columns={\"company_size\" : \"india\"})\n",
    "usa_company_size_dist = perc(usa, \"company_size\").rename(columns={\"company_size\" : \"usa\"})\n",
    "\n",
    "df_company_size = global_company_size_dist.merge(right=india_company_size_dist, how=\"inner\", left_index=True, right_index=True)\n",
    "df_company_size = df_company_size.merge(right=usa_company_size_dist, how=\"inner\", left_index=True, right_index=True)\n",
    "df_company_size = df_company_size.reset_index().rename(columns={\"index\" : \"company_size\"}).sort_values(\"company_size\").set_index(\"company_size\")\n",
    "df_company_size = df_company_size.reindex(index = [\"0-49 employees\", \"50-249 employees\", \"250-999 employees\", \"1000-9,999 employees\", \"> 10,000 employees\"])\n",
    "df_company_size"
   ]
  },
  {
   "cell_type": "code",
   "execution_count": 26,
   "metadata": {},
   "outputs": [
    {
     "data": {
      "image/png": "[encoded data removed]",
      "text/plain": [
       "<Figure size 864x432 with 1 Axes>"
      ]
     },
     "metadata": {
      "needs_background": "light"
     },
     "output_type": "display_data"
    }
   ],
   "source": [
    "df_company_size.plot(kind=\"bar\", figsize=figure_size, rot=45);"
   ]
  },
  {
   "cell_type": "markdown",
   "metadata": {},
   "source": [
    "### 2.1.6 Yearly Salary"
   ]
  },
  {
   "cell_type": "code",
   "execution_count": 32,
   "metadata": {},
   "outputs": [
    {
     "data": {
      "text/html": [
       "<div>\n",
       "<style scoped>\n",
       "    .dataframe tbody tr th:only-of-type {\n",
       "        vertical-align: middle;\n",
       "    }\n",
       "\n",
       "    .dataframe tbody tr th {\n",
       "        vertical-align: top;\n",
       "    }\n",
       "\n",
       "    .dataframe thead th {\n",
       "        text-align: right;\n",
       "    }\n",
       "</style>\n",
       "<table border=\"1\" class=\"dataframe\">\n",
       "  <thead>\n",
       "    <tr style=\"text-align: right;\">\n",
       "      <th></th>\n",
       "      <th>global</th>\n",
       "      <th>india</th>\n",
       "      <th>usa</th>\n",
       "    </tr>\n",
       "    <tr>\n",
       "      <th>salary</th>\n",
       "      <th></th>\n",
       "      <th></th>\n",
       "      <th></th>\n",
       "    </tr>\n",
       "  </thead>\n",
       "  <tbody>\n",
       "    <tr>\n",
       "      <th>$0-999</th>\n",
       "      <td>12.11</td>\n",
       "      <td>19.42</td>\n",
       "      <td>4.17</td>\n",
       "    </tr>\n",
       "    <tr>\n",
       "      <th>1,000-1,999</th>\n",
       "      <td>4.79</td>\n",
       "      <td>6.58</td>\n",
       "      <td>0.28</td>\n",
       "    </tr>\n",
       "    <tr>\n",
       "      <th>2,000-2,999</th>\n",
       "      <td>3.12</td>\n",
       "      <td>4.16</td>\n",
       "      <td>0.19</td>\n",
       "    </tr>\n",
       "    <tr>\n",
       "      <th>3,000-3,999</th>\n",
       "      <td>2.44</td>\n",
       "      <td>3.31</td>\n",
       "      <td>0.19</td>\n",
       "    </tr>\n",
       "    <tr>\n",
       "      <th>4,000-4,999</th>\n",
       "      <td>2.31</td>\n",
       "      <td>5.21</td>\n",
       "      <td>0.09</td>\n",
       "    </tr>\n",
       "    <tr>\n",
       "      <th>5,000-7,499</th>\n",
       "      <td>4.29</td>\n",
       "      <td>9.61</td>\n",
       "      <td>0.42</td>\n",
       "    </tr>\n",
       "    <tr>\n",
       "      <th>7,500-9,999</th>\n",
       "      <td>3.26</td>\n",
       "      <td>7.02</td>\n",
       "      <td>0.33</td>\n",
       "    </tr>\n",
       "    <tr>\n",
       "      <th>10,000-14,999</th>\n",
       "      <td>6.67</td>\n",
       "      <td>11.67</td>\n",
       "      <td>0.66</td>\n",
       "    </tr>\n",
       "    <tr>\n",
       "      <th>15,000-19,999</th>\n",
       "      <td>4.23</td>\n",
       "      <td>6.74</td>\n",
       "      <td>0.75</td>\n",
       "    </tr>\n",
       "    <tr>\n",
       "      <th>20,000-24,999</th>\n",
       "      <td>4.21</td>\n",
       "      <td>5.45</td>\n",
       "      <td>0.70</td>\n",
       "    </tr>\n",
       "    <tr>\n",
       "      <th>25,000-29,999</th>\n",
       "      <td>3.86</td>\n",
       "      <td>5.05</td>\n",
       "      <td>0.75</td>\n",
       "    </tr>\n",
       "    <tr>\n",
       "      <th>30,000-39,999</th>\n",
       "      <td>5.83</td>\n",
       "      <td>3.96</td>\n",
       "      <td>1.50</td>\n",
       "    </tr>\n",
       "    <tr>\n",
       "      <th>40,000-49,999</th>\n",
       "      <td>5.75</td>\n",
       "      <td>2.70</td>\n",
       "      <td>2.25</td>\n",
       "    </tr>\n",
       "    <tr>\n",
       "      <th>50,000-59,999</th>\n",
       "      <td>5.63</td>\n",
       "      <td>2.46</td>\n",
       "      <td>3.80</td>\n",
       "    </tr>\n",
       "    <tr>\n",
       "      <th>60,000-69,999</th>\n",
       "      <td>4.61</td>\n",
       "      <td>1.09</td>\n",
       "      <td>4.59</td>\n",
       "    </tr>\n",
       "    <tr>\n",
       "      <th>70,000-79,999</th>\n",
       "      <td>4.19</td>\n",
       "      <td>1.37</td>\n",
       "      <td>6.61</td>\n",
       "    </tr>\n",
       "    <tr>\n",
       "      <th>80,000-89,999</th>\n",
       "      <td>3.24</td>\n",
       "      <td>0.69</td>\n",
       "      <td>6.75</td>\n",
       "    </tr>\n",
       "    <tr>\n",
       "      <th>90,000-99,999</th>\n",
       "      <td>3.02</td>\n",
       "      <td>0.52</td>\n",
       "      <td>6.94</td>\n",
       "    </tr>\n",
       "    <tr>\n",
       "      <th>100,000-124,999</th>\n",
       "      <td>6.00</td>\n",
       "      <td>1.17</td>\n",
       "      <td>17.34</td>\n",
       "    </tr>\n",
       "    <tr>\n",
       "      <th>125,000-149,999</th>\n",
       "      <td>3.86</td>\n",
       "      <td>0.32</td>\n",
       "      <td>14.81</td>\n",
       "    </tr>\n",
       "    <tr>\n",
       "      <th>150,000-199,999</th>\n",
       "      <td>3.47</td>\n",
       "      <td>0.32</td>\n",
       "      <td>15.56</td>\n",
       "    </tr>\n",
       "    <tr>\n",
       "      <th>200,000-249,999</th>\n",
       "      <td>1.32</td>\n",
       "      <td>0.32</td>\n",
       "      <td>5.72</td>\n",
       "    </tr>\n",
       "    <tr>\n",
       "      <th>250,000-299,999</th>\n",
       "      <td>0.52</td>\n",
       "      <td>0.12</td>\n",
       "      <td>1.97</td>\n",
       "    </tr>\n",
       "    <tr>\n",
       "      <th>300,000-500,000</th>\n",
       "      <td>0.59</td>\n",
       "      <td>0.24</td>\n",
       "      <td>2.44</td>\n",
       "    </tr>\n",
       "    <tr>\n",
       "      <th>&gt; $500,000</th>\n",
       "      <td>0.66</td>\n",
       "      <td>0.48</td>\n",
       "      <td>1.22</td>\n",
       "    </tr>\n",
       "  </tbody>\n",
       "</table>\n",
       "</div>"
      ],
      "text/plain": [
       "                 global  india    usa\n",
       "salary                               \n",
       "$0-999            12.11  19.42   4.17\n",
       "1,000-1,999        4.79   6.58   0.28\n",
       "2,000-2,999        3.12   4.16   0.19\n",
       "3,000-3,999        2.44   3.31   0.19\n",
       "4,000-4,999        2.31   5.21   0.09\n",
       "5,000-7,499        4.29   9.61   0.42\n",
       "7,500-9,999        3.26   7.02   0.33\n",
       "10,000-14,999      6.67  11.67   0.66\n",
       "15,000-19,999      4.23   6.74   0.75\n",
       "20,000-24,999      4.21   5.45   0.70\n",
       "25,000-29,999      3.86   5.05   0.75\n",
       "30,000-39,999      5.83   3.96   1.50\n",
       "40,000-49,999      5.75   2.70   2.25\n",
       "50,000-59,999      5.63   2.46   3.80\n",
       "60,000-69,999      4.61   1.09   4.59\n",
       "70,000-79,999      4.19   1.37   6.61\n",
       "80,000-89,999      3.24   0.69   6.75\n",
       "90,000-99,999      3.02   0.52   6.94\n",
       "100,000-124,999    6.00   1.17  17.34\n",
       "125,000-149,999    3.86   0.32  14.81\n",
       "150,000-199,999    3.47   0.32  15.56\n",
       "200,000-249,999    1.32   0.32   5.72\n",
       "250,000-299,999    0.52   0.12   1.97\n",
       "300,000-500,000    0.59   0.24   2.44\n",
       "> $500,000         0.66   0.48   1.22"
      ]
     },
     "execution_count": 32,
     "metadata": {},
     "output_type": "execute_result"
    }
   ],
   "source": [
    "global_salary_dist = perc(df, \"salary\").rename(columns={\"salary\" : \"global\"})\n",
    "india_salary_dist = perc(india, \"salary\").rename(columns={\"salary\" : \"india\"})\n",
    "usa_salary_dist = perc(usa, \"salary\").rename(columns={\"salary\" : \"usa\"})\n",
    "\n",
    "df_salary = global_salary_dist.merge(right=india_salary_dist, how=\"inner\", left_index=True, right_index=True)\n",
    "df_salary = df_salary.merge(right=usa_salary_dist, how=\"inner\", left_index=True, right_index=True)\n",
    "df_salary = df_salary.reset_index().rename(columns={\"index\" : \"salary\"}).sort_values(\"salary\").set_index(\"salary\")\n",
    "df_salary = df_salary.reindex(index = [\"$0-999\", \"1,000-1,999\", \"2,000-2,999\",  \"3,000-3,999\", \"4,000-4,999\", \n",
    "                                       \"5,000-7,499\", \"7,500-9,999\", \"10,000-14,999\", \"15,000-19,999\", \"20,000-24,999\", \n",
    "                                       \"25,000-29,999\", \"30,000-39,999\", \"40,000-49,999\", \"50,000-59,999\", \n",
    "                                       \"60,000-69,999\", \"70,000-79,999\", \"80,000-89,999\", \"90,000-99,999\", \n",
    "                                       \"100,000-124,999\", \"125,000-149,999\", \"150,000-199,999\", \"200,000-249,999\",\n",
    "                                       \"250,000-299,999\", \"300,000-500,000\", \"> $500,000\"])\n",
    "\n",
    "df_salary"
   ]
  },
  {
   "cell_type": "code",
   "execution_count": 35,
   "metadata": {},
   "outputs": [
    {
     "data": {
      "image/png": "[encoded data removed]",
      "text/plain": [
       "<Figure size 864x432 with 1 Axes>"
      ]
     },
     "metadata": {
      "needs_background": "light"
     },
     "output_type": "display_data"
    }
   ],
   "source": [
    "df_salary.plot(kind=\"bar\", figsize=figure_size, rot=45);"
   ]
  },
  {
   "cell_type": "code",
   "execution_count": 28,
   "metadata": {},
   "outputs": [],
   "source": []
  },
  {
   "cell_type": "code",
   "execution_count": null,
   "metadata": {},
   "outputs": [],
   "source": []
  },
  {
   "cell_type": "code",
   "execution_count": null,
   "metadata": {},
   "outputs": [],
   "source": []
  }
 ],
 "metadata": {
  "kernelspec": {
   "display_name": "Python 3",
   "language": "python",
   "name": "python3"
  },
  "language_info": {
   "codemirror_mode": {
    "name": "ipython",
    "version": 3
   },
   "file_extension": ".py",
   "mimetype": "text/x-python",
   "name": "python",
   "nbconvert_exporter": "python",
   "pygments_lexer": "ipython3",
   "version": "3.7.5"
  }
 },
 "nbformat": 4,
 "nbformat_minor": 2
}
